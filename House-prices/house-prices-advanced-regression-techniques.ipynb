{
 "cells": [
  {
   "cell_type": "code",
   "execution_count": 1,
   "id": "412e832a",
   "metadata": {
    "execution": {
     "iopub.execute_input": "2024-04-14T23:22:24.259944Z",
     "iopub.status.busy": "2024-04-14T23:22:24.259530Z",
     "iopub.status.idle": "2024-04-14T23:22:26.800281Z",
     "shell.execute_reply": "2024-04-14T23:22:26.799015Z"
    },
    "papermill": {
     "duration": 2.561032,
     "end_time": "2024-04-14T23:22:26.803587",
     "exception": false,
     "start_time": "2024-04-14T23:22:24.242555",
     "status": "completed"
    },
    "tags": []
   },
   "outputs": [],
   "source": [
    "# Import Libraries\n",
    "import pandas as pd\n",
    "import numpy as np\n",
    "import matplotlib.pyplot as plt\n",
    "import seaborn as sns"
   ]
  },
  {
   "cell_type": "markdown",
   "id": "584c11f2",
   "metadata": {
    "papermill": {
     "duration": 0.013969,
     "end_time": "2024-04-14T23:22:26.832600",
     "exception": false,
     "start_time": "2024-04-14T23:22:26.818631",
     "status": "completed"
    },
    "tags": []
   },
   "source": [
    "# Load Data"
   ]
  },
  {
   "cell_type": "code",
   "execution_count": 2,
   "id": "d57b6f29",
   "metadata": {
    "execution": {
     "iopub.execute_input": "2024-04-14T23:22:26.863543Z",
     "iopub.status.busy": "2024-04-14T23:22:26.862700Z",
     "iopub.status.idle": "2024-04-14T23:22:26.949633Z",
     "shell.execute_reply": "2024-04-14T23:22:26.948194Z"
    },
    "papermill": {
     "duration": 0.105371,
     "end_time": "2024-04-14T23:22:26.952258",
     "exception": false,
     "start_time": "2024-04-14T23:22:26.846887",
     "status": "completed"
    },
    "tags": []
   },
   "outputs": [
    {
     "data": {
      "text/html": [
       "<div>\n",
       "<style scoped>\n",
       "    .dataframe tbody tr th:only-of-type {\n",
       "        vertical-align: middle;\n",
       "    }\n",
       "\n",
       "    .dataframe tbody tr th {\n",
       "        vertical-align: top;\n",
       "    }\n",
       "\n",
       "    .dataframe thead th {\n",
       "        text-align: right;\n",
       "    }\n",
       "</style>\n",
       "<table border=\"1\" class=\"dataframe\">\n",
       "  <thead>\n",
       "    <tr style=\"text-align: right;\">\n",
       "      <th></th>\n",
       "      <th>Id</th>\n",
       "      <th>MSSubClass</th>\n",
       "      <th>MSZoning</th>\n",
       "      <th>LotFrontage</th>\n",
       "      <th>LotArea</th>\n",
       "      <th>Street</th>\n",
       "      <th>Alley</th>\n",
       "      <th>LotShape</th>\n",
       "      <th>LandContour</th>\n",
       "      <th>Utilities</th>\n",
       "      <th>...</th>\n",
       "      <th>PoolArea</th>\n",
       "      <th>PoolQC</th>\n",
       "      <th>Fence</th>\n",
       "      <th>MiscFeature</th>\n",
       "      <th>MiscVal</th>\n",
       "      <th>MoSold</th>\n",
       "      <th>YrSold</th>\n",
       "      <th>SaleType</th>\n",
       "      <th>SaleCondition</th>\n",
       "      <th>SalePrice</th>\n",
       "    </tr>\n",
       "  </thead>\n",
       "  <tbody>\n",
       "    <tr>\n",
       "      <th>0</th>\n",
       "      <td>1</td>\n",
       "      <td>60</td>\n",
       "      <td>RL</td>\n",
       "      <td>65.0</td>\n",
       "      <td>8450</td>\n",
       "      <td>Pave</td>\n",
       "      <td>NaN</td>\n",
       "      <td>Reg</td>\n",
       "      <td>Lvl</td>\n",
       "      <td>AllPub</td>\n",
       "      <td>...</td>\n",
       "      <td>0</td>\n",
       "      <td>NaN</td>\n",
       "      <td>NaN</td>\n",
       "      <td>NaN</td>\n",
       "      <td>0</td>\n",
       "      <td>2</td>\n",
       "      <td>2008</td>\n",
       "      <td>WD</td>\n",
       "      <td>Normal</td>\n",
       "      <td>208500</td>\n",
       "    </tr>\n",
       "    <tr>\n",
       "      <th>1</th>\n",
       "      <td>2</td>\n",
       "      <td>20</td>\n",
       "      <td>RL</td>\n",
       "      <td>80.0</td>\n",
       "      <td>9600</td>\n",
       "      <td>Pave</td>\n",
       "      <td>NaN</td>\n",
       "      <td>Reg</td>\n",
       "      <td>Lvl</td>\n",
       "      <td>AllPub</td>\n",
       "      <td>...</td>\n",
       "      <td>0</td>\n",
       "      <td>NaN</td>\n",
       "      <td>NaN</td>\n",
       "      <td>NaN</td>\n",
       "      <td>0</td>\n",
       "      <td>5</td>\n",
       "      <td>2007</td>\n",
       "      <td>WD</td>\n",
       "      <td>Normal</td>\n",
       "      <td>181500</td>\n",
       "    </tr>\n",
       "    <tr>\n",
       "      <th>2</th>\n",
       "      <td>3</td>\n",
       "      <td>60</td>\n",
       "      <td>RL</td>\n",
       "      <td>68.0</td>\n",
       "      <td>11250</td>\n",
       "      <td>Pave</td>\n",
       "      <td>NaN</td>\n",
       "      <td>IR1</td>\n",
       "      <td>Lvl</td>\n",
       "      <td>AllPub</td>\n",
       "      <td>...</td>\n",
       "      <td>0</td>\n",
       "      <td>NaN</td>\n",
       "      <td>NaN</td>\n",
       "      <td>NaN</td>\n",
       "      <td>0</td>\n",
       "      <td>9</td>\n",
       "      <td>2008</td>\n",
       "      <td>WD</td>\n",
       "      <td>Normal</td>\n",
       "      <td>223500</td>\n",
       "    </tr>\n",
       "    <tr>\n",
       "      <th>3</th>\n",
       "      <td>4</td>\n",
       "      <td>70</td>\n",
       "      <td>RL</td>\n",
       "      <td>60.0</td>\n",
       "      <td>9550</td>\n",
       "      <td>Pave</td>\n",
       "      <td>NaN</td>\n",
       "      <td>IR1</td>\n",
       "      <td>Lvl</td>\n",
       "      <td>AllPub</td>\n",
       "      <td>...</td>\n",
       "      <td>0</td>\n",
       "      <td>NaN</td>\n",
       "      <td>NaN</td>\n",
       "      <td>NaN</td>\n",
       "      <td>0</td>\n",
       "      <td>2</td>\n",
       "      <td>2006</td>\n",
       "      <td>WD</td>\n",
       "      <td>Abnorml</td>\n",
       "      <td>140000</td>\n",
       "    </tr>\n",
       "    <tr>\n",
       "      <th>4</th>\n",
       "      <td>5</td>\n",
       "      <td>60</td>\n",
       "      <td>RL</td>\n",
       "      <td>84.0</td>\n",
       "      <td>14260</td>\n",
       "      <td>Pave</td>\n",
       "      <td>NaN</td>\n",
       "      <td>IR1</td>\n",
       "      <td>Lvl</td>\n",
       "      <td>AllPub</td>\n",
       "      <td>...</td>\n",
       "      <td>0</td>\n",
       "      <td>NaN</td>\n",
       "      <td>NaN</td>\n",
       "      <td>NaN</td>\n",
       "      <td>0</td>\n",
       "      <td>12</td>\n",
       "      <td>2008</td>\n",
       "      <td>WD</td>\n",
       "      <td>Normal</td>\n",
       "      <td>250000</td>\n",
       "    </tr>\n",
       "  </tbody>\n",
       "</table>\n",
       "<p>5 rows × 81 columns</p>\n",
       "</div>"
      ],
      "text/plain": [
       "   Id  MSSubClass MSZoning  LotFrontage  LotArea Street Alley LotShape  \\\n",
       "0   1          60       RL         65.0     8450   Pave   NaN      Reg   \n",
       "1   2          20       RL         80.0     9600   Pave   NaN      Reg   \n",
       "2   3          60       RL         68.0    11250   Pave   NaN      IR1   \n",
       "3   4          70       RL         60.0     9550   Pave   NaN      IR1   \n",
       "4   5          60       RL         84.0    14260   Pave   NaN      IR1   \n",
       "\n",
       "  LandContour Utilities  ... PoolArea PoolQC Fence MiscFeature MiscVal MoSold  \\\n",
       "0         Lvl    AllPub  ...        0    NaN   NaN         NaN       0      2   \n",
       "1         Lvl    AllPub  ...        0    NaN   NaN         NaN       0      5   \n",
       "2         Lvl    AllPub  ...        0    NaN   NaN         NaN       0      9   \n",
       "3         Lvl    AllPub  ...        0    NaN   NaN         NaN       0      2   \n",
       "4         Lvl    AllPub  ...        0    NaN   NaN         NaN       0     12   \n",
       "\n",
       "  YrSold  SaleType  SaleCondition  SalePrice  \n",
       "0   2008        WD         Normal     208500  \n",
       "1   2007        WD         Normal     181500  \n",
       "2   2008        WD         Normal     223500  \n",
       "3   2006        WD        Abnorml     140000  \n",
       "4   2008        WD         Normal     250000  \n",
       "\n",
       "[5 rows x 81 columns]"
      ]
     },
     "execution_count": 2,
     "metadata": {},
     "output_type": "execute_result"
    }
   ],
   "source": [
    "df = pd.read_csv('/kaggle/input/house-prices-advanced-regression-techniques/train.csv')\n",
    "df.head()"
   ]
  },
  {
   "cell_type": "code",
   "execution_count": 3,
   "id": "974fec49",
   "metadata": {
    "execution": {
     "iopub.execute_input": "2024-04-14T23:22:26.985057Z",
     "iopub.status.busy": "2024-04-14T23:22:26.984677Z",
     "iopub.status.idle": "2024-04-14T23:22:27.021559Z",
     "shell.execute_reply": "2024-04-14T23:22:27.019879Z"
    },
    "papermill": {
     "duration": 0.056216,
     "end_time": "2024-04-14T23:22:27.024542",
     "exception": false,
     "start_time": "2024-04-14T23:22:26.968326",
     "status": "completed"
    },
    "tags": []
   },
   "outputs": [
    {
     "name": "stdout",
     "output_type": "stream",
     "text": [
      "<class 'pandas.core.frame.DataFrame'>\n",
      "RangeIndex: 1460 entries, 0 to 1459\n",
      "Data columns (total 81 columns):\n",
      " #   Column         Non-Null Count  Dtype  \n",
      "---  ------         --------------  -----  \n",
      " 0   Id             1460 non-null   int64  \n",
      " 1   MSSubClass     1460 non-null   int64  \n",
      " 2   MSZoning       1460 non-null   object \n",
      " 3   LotFrontage    1201 non-null   float64\n",
      " 4   LotArea        1460 non-null   int64  \n",
      " 5   Street         1460 non-null   object \n",
      " 6   Alley          91 non-null     object \n",
      " 7   LotShape       1460 non-null   object \n",
      " 8   LandContour    1460 non-null   object \n",
      " 9   Utilities      1460 non-null   object \n",
      " 10  LotConfig      1460 non-null   object \n",
      " 11  LandSlope      1460 non-null   object \n",
      " 12  Neighborhood   1460 non-null   object \n",
      " 13  Condition1     1460 non-null   object \n",
      " 14  Condition2     1460 non-null   object \n",
      " 15  BldgType       1460 non-null   object \n",
      " 16  HouseStyle     1460 non-null   object \n",
      " 17  OverallQual    1460 non-null   int64  \n",
      " 18  OverallCond    1460 non-null   int64  \n",
      " 19  YearBuilt      1460 non-null   int64  \n",
      " 20  YearRemodAdd   1460 non-null   int64  \n",
      " 21  RoofStyle      1460 non-null   object \n",
      " 22  RoofMatl       1460 non-null   object \n",
      " 23  Exterior1st    1460 non-null   object \n",
      " 24  Exterior2nd    1460 non-null   object \n",
      " 25  MasVnrType     588 non-null    object \n",
      " 26  MasVnrArea     1452 non-null   float64\n",
      " 27  ExterQual      1460 non-null   object \n",
      " 28  ExterCond      1460 non-null   object \n",
      " 29  Foundation     1460 non-null   object \n",
      " 30  BsmtQual       1423 non-null   object \n",
      " 31  BsmtCond       1423 non-null   object \n",
      " 32  BsmtExposure   1422 non-null   object \n",
      " 33  BsmtFinType1   1423 non-null   object \n",
      " 34  BsmtFinSF1     1460 non-null   int64  \n",
      " 35  BsmtFinType2   1422 non-null   object \n",
      " 36  BsmtFinSF2     1460 non-null   int64  \n",
      " 37  BsmtUnfSF      1460 non-null   int64  \n",
      " 38  TotalBsmtSF    1460 non-null   int64  \n",
      " 39  Heating        1460 non-null   object \n",
      " 40  HeatingQC      1460 non-null   object \n",
      " 41  CentralAir     1460 non-null   object \n",
      " 42  Electrical     1459 non-null   object \n",
      " 43  1stFlrSF       1460 non-null   int64  \n",
      " 44  2ndFlrSF       1460 non-null   int64  \n",
      " 45  LowQualFinSF   1460 non-null   int64  \n",
      " 46  GrLivArea      1460 non-null   int64  \n",
      " 47  BsmtFullBath   1460 non-null   int64  \n",
      " 48  BsmtHalfBath   1460 non-null   int64  \n",
      " 49  FullBath       1460 non-null   int64  \n",
      " 50  HalfBath       1460 non-null   int64  \n",
      " 51  BedroomAbvGr   1460 non-null   int64  \n",
      " 52  KitchenAbvGr   1460 non-null   int64  \n",
      " 53  KitchenQual    1460 non-null   object \n",
      " 54  TotRmsAbvGrd   1460 non-null   int64  \n",
      " 55  Functional     1460 non-null   object \n",
      " 56  Fireplaces     1460 non-null   int64  \n",
      " 57  FireplaceQu    770 non-null    object \n",
      " 58  GarageType     1379 non-null   object \n",
      " 59  GarageYrBlt    1379 non-null   float64\n",
      " 60  GarageFinish   1379 non-null   object \n",
      " 61  GarageCars     1460 non-null   int64  \n",
      " 62  GarageArea     1460 non-null   int64  \n",
      " 63  GarageQual     1379 non-null   object \n",
      " 64  GarageCond     1379 non-null   object \n",
      " 65  PavedDrive     1460 non-null   object \n",
      " 66  WoodDeckSF     1460 non-null   int64  \n",
      " 67  OpenPorchSF    1460 non-null   int64  \n",
      " 68  EnclosedPorch  1460 non-null   int64  \n",
      " 69  3SsnPorch      1460 non-null   int64  \n",
      " 70  ScreenPorch    1460 non-null   int64  \n",
      " 71  PoolArea       1460 non-null   int64  \n",
      " 72  PoolQC         7 non-null      object \n",
      " 73  Fence          281 non-null    object \n",
      " 74  MiscFeature    54 non-null     object \n",
      " 75  MiscVal        1460 non-null   int64  \n",
      " 76  MoSold         1460 non-null   int64  \n",
      " 77  YrSold         1460 non-null   int64  \n",
      " 78  SaleType       1460 non-null   object \n",
      " 79  SaleCondition  1460 non-null   object \n",
      " 80  SalePrice      1460 non-null   int64  \n",
      "dtypes: float64(3), int64(35), object(43)\n",
      "memory usage: 924.0+ KB\n"
     ]
    }
   ],
   "source": [
    "# check null values\n",
    "df.info()"
   ]
  },
  {
   "cell_type": "markdown",
   "id": "875806ee",
   "metadata": {
    "papermill": {
     "duration": 0.015022,
     "end_time": "2024-04-14T23:22:27.054820",
     "exception": false,
     "start_time": "2024-04-14T23:22:27.039798",
     "status": "completed"
    },
    "tags": []
   },
   "source": [
    "# Preprocessing"
   ]
  },
  {
   "cell_type": "markdown",
   "id": "fc6578c0",
   "metadata": {
    "papermill": {
     "duration": 0.014542,
     "end_time": "2024-04-14T23:22:27.084880",
     "exception": false,
     "start_time": "2024-04-14T23:22:27.070338",
     "status": "completed"
    },
    "tags": []
   },
   "source": [
    "# Handling null values in train data"
   ]
  },
  {
   "cell_type": "code",
   "execution_count": 4,
   "id": "c71d7e9a",
   "metadata": {
    "execution": {
     "iopub.execute_input": "2024-04-14T23:22:27.116917Z",
     "iopub.status.busy": "2024-04-14T23:22:27.116405Z",
     "iopub.status.idle": "2024-04-14T23:22:27.124458Z",
     "shell.execute_reply": "2024-04-14T23:22:27.123210Z"
    },
    "papermill": {
     "duration": 0.026949,
     "end_time": "2024-04-14T23:22:27.127106",
     "exception": false,
     "start_time": "2024-04-14T23:22:27.100157",
     "status": "completed"
    },
    "tags": []
   },
   "outputs": [],
   "source": [
    "# Drop not required columns and missing values\n",
    "df = df.drop(['Alley', 'MiscFeature', 'Fence', 'PoolQC', 'MasVnrType'], axis='columns')"
   ]
  },
  {
   "cell_type": "code",
   "execution_count": 5,
   "id": "fb9a65e4",
   "metadata": {
    "execution": {
     "iopub.execute_input": "2024-04-14T23:22:27.159531Z",
     "iopub.status.busy": "2024-04-14T23:22:27.159126Z",
     "iopub.status.idle": "2024-04-14T23:22:27.168316Z",
     "shell.execute_reply": "2024-04-14T23:22:27.167239Z"
    },
    "papermill": {
     "duration": 0.028711,
     "end_time": "2024-04-14T23:22:27.171062",
     "exception": false,
     "start_time": "2024-04-14T23:22:27.142351",
     "status": "completed"
    },
    "tags": []
   },
   "outputs": [],
   "source": [
    "df = df.fillna({\n",
    "    'LotFrontage': df['LotFrontage'].mean(),\n",
    "    'MasVnrArea': df['MasVnrArea'].mean(),\n",
    "    'BsmtFinSF1': df['BsmtFinSF1'].mean()\n",
    "})\n"
   ]
  },
  {
   "cell_type": "code",
   "execution_count": 6,
   "id": "d07facbb",
   "metadata": {
    "execution": {
     "iopub.execute_input": "2024-04-14T23:22:27.204793Z",
     "iopub.status.busy": "2024-04-14T23:22:27.204415Z",
     "iopub.status.idle": "2024-04-14T23:22:27.223228Z",
     "shell.execute_reply": "2024-04-14T23:22:27.221939Z"
    },
    "papermill": {
     "duration": 0.038776,
     "end_time": "2024-04-14T23:22:27.226401",
     "exception": false,
     "start_time": "2024-04-14T23:22:27.187625",
     "status": "completed"
    },
    "tags": []
   },
   "outputs": [],
   "source": [
    "df = df.fillna({\n",
    "    'BsmtQual': df['BsmtQual'].mode()[0],\n",
    "    'BsmtCond': df['BsmtCond'].mode()[0],\n",
    "    'BsmtExposure': df['BsmtExposure'].mode()[0],\n",
    "    'BsmtFinType1': df['BsmtFinType1'].mode()[0],\n",
    "    'BsmtFinType2': df['BsmtFinType2'].mode()[0],\n",
    "    'Electrical': df['Electrical'].mode()[0],\n",
    "    'FireplaceQu': df['FireplaceQu'].mode()[0]\n",
    "})"
   ]
  },
  {
   "cell_type": "code",
   "execution_count": 7,
   "id": "8803b1ad",
   "metadata": {
    "execution": {
     "iopub.execute_input": "2024-04-14T23:22:27.259995Z",
     "iopub.status.busy": "2024-04-14T23:22:27.259617Z",
     "iopub.status.idle": "2024-04-14T23:22:27.274360Z",
     "shell.execute_reply": "2024-04-14T23:22:27.273013Z"
    },
    "papermill": {
     "duration": 0.035051,
     "end_time": "2024-04-14T23:22:27.277381",
     "exception": false,
     "start_time": "2024-04-14T23:22:27.242330",
     "status": "completed"
    },
    "tags": []
   },
   "outputs": [],
   "source": [
    "# Handle null values for Garage properties\n",
    "df = df.fillna({\n",
    "    'GarageYrBlt': df['YearBuilt'],\n",
    "    'GarageFinish': df['GarageFinish'].mode()[0],\n",
    "    'GarageQual': df['GarageQual'].mode()[0],\n",
    "    'GarageCond': df['GarageCond'].mode()[0],\n",
    "    'GarageType': df['GarageType'].mode()[0]\n",
    "})"
   ]
  },
  {
   "cell_type": "code",
   "execution_count": 8,
   "id": "fedd34b9",
   "metadata": {
    "execution": {
     "iopub.execute_input": "2024-04-14T23:22:27.310455Z",
     "iopub.status.busy": "2024-04-14T23:22:27.309766Z",
     "iopub.status.idle": "2024-04-14T23:22:27.317371Z",
     "shell.execute_reply": "2024-04-14T23:22:27.316121Z"
    },
    "papermill": {
     "duration": 0.026897,
     "end_time": "2024-04-14T23:22:27.319979",
     "exception": false,
     "start_time": "2024-04-14T23:22:27.293082",
     "status": "completed"
    },
    "tags": []
   },
   "outputs": [
    {
     "data": {
      "text/plain": [
       "(1460, 76)"
      ]
     },
     "execution_count": 8,
     "metadata": {},
     "output_type": "execute_result"
    }
   ],
   "source": [
    "df.shape"
   ]
  },
  {
   "cell_type": "code",
   "execution_count": 9,
   "id": "b32157c1",
   "metadata": {
    "execution": {
     "iopub.execute_input": "2024-04-14T23:22:27.352236Z",
     "iopub.status.busy": "2024-04-14T23:22:27.351806Z",
     "iopub.status.idle": "2024-04-14T23:22:27.376312Z",
     "shell.execute_reply": "2024-04-14T23:22:27.374862Z"
    },
    "papermill": {
     "duration": 0.044392,
     "end_time": "2024-04-14T23:22:27.379507",
     "exception": false,
     "start_time": "2024-04-14T23:22:27.335115",
     "status": "completed"
    },
    "tags": []
   },
   "outputs": [
    {
     "name": "stdout",
     "output_type": "stream",
     "text": [
      "<class 'pandas.core.frame.DataFrame'>\n",
      "RangeIndex: 1460 entries, 0 to 1459\n",
      "Data columns (total 76 columns):\n",
      " #   Column         Non-Null Count  Dtype  \n",
      "---  ------         --------------  -----  \n",
      " 0   Id             1460 non-null   int64  \n",
      " 1   MSSubClass     1460 non-null   int64  \n",
      " 2   MSZoning       1460 non-null   object \n",
      " 3   LotFrontage    1460 non-null   float64\n",
      " 4   LotArea        1460 non-null   int64  \n",
      " 5   Street         1460 non-null   object \n",
      " 6   LotShape       1460 non-null   object \n",
      " 7   LandContour    1460 non-null   object \n",
      " 8   Utilities      1460 non-null   object \n",
      " 9   LotConfig      1460 non-null   object \n",
      " 10  LandSlope      1460 non-null   object \n",
      " 11  Neighborhood   1460 non-null   object \n",
      " 12  Condition1     1460 non-null   object \n",
      " 13  Condition2     1460 non-null   object \n",
      " 14  BldgType       1460 non-null   object \n",
      " 15  HouseStyle     1460 non-null   object \n",
      " 16  OverallQual    1460 non-null   int64  \n",
      " 17  OverallCond    1460 non-null   int64  \n",
      " 18  YearBuilt      1460 non-null   int64  \n",
      " 19  YearRemodAdd   1460 non-null   int64  \n",
      " 20  RoofStyle      1460 non-null   object \n",
      " 21  RoofMatl       1460 non-null   object \n",
      " 22  Exterior1st    1460 non-null   object \n",
      " 23  Exterior2nd    1460 non-null   object \n",
      " 24  MasVnrArea     1460 non-null   float64\n",
      " 25  ExterQual      1460 non-null   object \n",
      " 26  ExterCond      1460 non-null   object \n",
      " 27  Foundation     1460 non-null   object \n",
      " 28  BsmtQual       1460 non-null   object \n",
      " 29  BsmtCond       1460 non-null   object \n",
      " 30  BsmtExposure   1460 non-null   object \n",
      " 31  BsmtFinType1   1460 non-null   object \n",
      " 32  BsmtFinSF1     1460 non-null   int64  \n",
      " 33  BsmtFinType2   1460 non-null   object \n",
      " 34  BsmtFinSF2     1460 non-null   int64  \n",
      " 35  BsmtUnfSF      1460 non-null   int64  \n",
      " 36  TotalBsmtSF    1460 non-null   int64  \n",
      " 37  Heating        1460 non-null   object \n",
      " 38  HeatingQC      1460 non-null   object \n",
      " 39  CentralAir     1460 non-null   object \n",
      " 40  Electrical     1460 non-null   object \n",
      " 41  1stFlrSF       1460 non-null   int64  \n",
      " 42  2ndFlrSF       1460 non-null   int64  \n",
      " 43  LowQualFinSF   1460 non-null   int64  \n",
      " 44  GrLivArea      1460 non-null   int64  \n",
      " 45  BsmtFullBath   1460 non-null   int64  \n",
      " 46  BsmtHalfBath   1460 non-null   int64  \n",
      " 47  FullBath       1460 non-null   int64  \n",
      " 48  HalfBath       1460 non-null   int64  \n",
      " 49  BedroomAbvGr   1460 non-null   int64  \n",
      " 50  KitchenAbvGr   1460 non-null   int64  \n",
      " 51  KitchenQual    1460 non-null   object \n",
      " 52  TotRmsAbvGrd   1460 non-null   int64  \n",
      " 53  Functional     1460 non-null   object \n",
      " 54  Fireplaces     1460 non-null   int64  \n",
      " 55  FireplaceQu    1460 non-null   object \n",
      " 56  GarageType     1460 non-null   object \n",
      " 57  GarageYrBlt    1460 non-null   float64\n",
      " 58  GarageFinish   1460 non-null   object \n",
      " 59  GarageCars     1460 non-null   int64  \n",
      " 60  GarageArea     1460 non-null   int64  \n",
      " 61  GarageQual     1460 non-null   object \n",
      " 62  GarageCond     1460 non-null   object \n",
      " 63  PavedDrive     1460 non-null   object \n",
      " 64  WoodDeckSF     1460 non-null   int64  \n",
      " 65  OpenPorchSF    1460 non-null   int64  \n",
      " 66  EnclosedPorch  1460 non-null   int64  \n",
      " 67  3SsnPorch      1460 non-null   int64  \n",
      " 68  ScreenPorch    1460 non-null   int64  \n",
      " 69  PoolArea       1460 non-null   int64  \n",
      " 70  MiscVal        1460 non-null   int64  \n",
      " 71  MoSold         1460 non-null   int64  \n",
      " 72  YrSold         1460 non-null   int64  \n",
      " 73  SaleType       1460 non-null   object \n",
      " 74  SaleCondition  1460 non-null   object \n",
      " 75  SalePrice      1460 non-null   int64  \n",
      "dtypes: float64(3), int64(35), object(38)\n",
      "memory usage: 867.0+ KB\n"
     ]
    }
   ],
   "source": [
    "# check null values again\n",
    "df.info()"
   ]
  },
  {
   "cell_type": "code",
   "execution_count": 10,
   "id": "48361d27",
   "metadata": {
    "execution": {
     "iopub.execute_input": "2024-04-14T23:22:27.412639Z",
     "iopub.status.busy": "2024-04-14T23:22:27.412250Z",
     "iopub.status.idle": "2024-04-14T23:22:27.482830Z",
     "shell.execute_reply": "2024-04-14T23:22:27.481412Z"
    },
    "papermill": {
     "duration": 0.090286,
     "end_time": "2024-04-14T23:22:27.485554",
     "exception": false,
     "start_time": "2024-04-14T23:22:27.395268",
     "status": "completed"
    },
    "tags": []
   },
   "outputs": [
    {
     "data": {
      "text/html": [
       "<div>\n",
       "<style scoped>\n",
       "    .dataframe tbody tr th:only-of-type {\n",
       "        vertical-align: middle;\n",
       "    }\n",
       "\n",
       "    .dataframe tbody tr th {\n",
       "        vertical-align: top;\n",
       "    }\n",
       "\n",
       "    .dataframe thead th {\n",
       "        text-align: right;\n",
       "    }\n",
       "</style>\n",
       "<table border=\"1\" class=\"dataframe\">\n",
       "  <thead>\n",
       "    <tr style=\"text-align: right;\">\n",
       "      <th></th>\n",
       "      <th>Id</th>\n",
       "      <th>MSSubClass</th>\n",
       "      <th>MSZoning</th>\n",
       "      <th>LotFrontage</th>\n",
       "      <th>LotArea</th>\n",
       "      <th>Street</th>\n",
       "      <th>Alley</th>\n",
       "      <th>LotShape</th>\n",
       "      <th>LandContour</th>\n",
       "      <th>Utilities</th>\n",
       "      <th>...</th>\n",
       "      <th>ScreenPorch</th>\n",
       "      <th>PoolArea</th>\n",
       "      <th>PoolQC</th>\n",
       "      <th>Fence</th>\n",
       "      <th>MiscFeature</th>\n",
       "      <th>MiscVal</th>\n",
       "      <th>MoSold</th>\n",
       "      <th>YrSold</th>\n",
       "      <th>SaleType</th>\n",
       "      <th>SaleCondition</th>\n",
       "    </tr>\n",
       "  </thead>\n",
       "  <tbody>\n",
       "    <tr>\n",
       "      <th>0</th>\n",
       "      <td>1461</td>\n",
       "      <td>20</td>\n",
       "      <td>RH</td>\n",
       "      <td>80.0</td>\n",
       "      <td>11622</td>\n",
       "      <td>Pave</td>\n",
       "      <td>NaN</td>\n",
       "      <td>Reg</td>\n",
       "      <td>Lvl</td>\n",
       "      <td>AllPub</td>\n",
       "      <td>...</td>\n",
       "      <td>120</td>\n",
       "      <td>0</td>\n",
       "      <td>NaN</td>\n",
       "      <td>MnPrv</td>\n",
       "      <td>NaN</td>\n",
       "      <td>0</td>\n",
       "      <td>6</td>\n",
       "      <td>2010</td>\n",
       "      <td>WD</td>\n",
       "      <td>Normal</td>\n",
       "    </tr>\n",
       "    <tr>\n",
       "      <th>1</th>\n",
       "      <td>1462</td>\n",
       "      <td>20</td>\n",
       "      <td>RL</td>\n",
       "      <td>81.0</td>\n",
       "      <td>14267</td>\n",
       "      <td>Pave</td>\n",
       "      <td>NaN</td>\n",
       "      <td>IR1</td>\n",
       "      <td>Lvl</td>\n",
       "      <td>AllPub</td>\n",
       "      <td>...</td>\n",
       "      <td>0</td>\n",
       "      <td>0</td>\n",
       "      <td>NaN</td>\n",
       "      <td>NaN</td>\n",
       "      <td>Gar2</td>\n",
       "      <td>12500</td>\n",
       "      <td>6</td>\n",
       "      <td>2010</td>\n",
       "      <td>WD</td>\n",
       "      <td>Normal</td>\n",
       "    </tr>\n",
       "    <tr>\n",
       "      <th>2</th>\n",
       "      <td>1463</td>\n",
       "      <td>60</td>\n",
       "      <td>RL</td>\n",
       "      <td>74.0</td>\n",
       "      <td>13830</td>\n",
       "      <td>Pave</td>\n",
       "      <td>NaN</td>\n",
       "      <td>IR1</td>\n",
       "      <td>Lvl</td>\n",
       "      <td>AllPub</td>\n",
       "      <td>...</td>\n",
       "      <td>0</td>\n",
       "      <td>0</td>\n",
       "      <td>NaN</td>\n",
       "      <td>MnPrv</td>\n",
       "      <td>NaN</td>\n",
       "      <td>0</td>\n",
       "      <td>3</td>\n",
       "      <td>2010</td>\n",
       "      <td>WD</td>\n",
       "      <td>Normal</td>\n",
       "    </tr>\n",
       "    <tr>\n",
       "      <th>3</th>\n",
       "      <td>1464</td>\n",
       "      <td>60</td>\n",
       "      <td>RL</td>\n",
       "      <td>78.0</td>\n",
       "      <td>9978</td>\n",
       "      <td>Pave</td>\n",
       "      <td>NaN</td>\n",
       "      <td>IR1</td>\n",
       "      <td>Lvl</td>\n",
       "      <td>AllPub</td>\n",
       "      <td>...</td>\n",
       "      <td>0</td>\n",
       "      <td>0</td>\n",
       "      <td>NaN</td>\n",
       "      <td>NaN</td>\n",
       "      <td>NaN</td>\n",
       "      <td>0</td>\n",
       "      <td>6</td>\n",
       "      <td>2010</td>\n",
       "      <td>WD</td>\n",
       "      <td>Normal</td>\n",
       "    </tr>\n",
       "    <tr>\n",
       "      <th>4</th>\n",
       "      <td>1465</td>\n",
       "      <td>120</td>\n",
       "      <td>RL</td>\n",
       "      <td>43.0</td>\n",
       "      <td>5005</td>\n",
       "      <td>Pave</td>\n",
       "      <td>NaN</td>\n",
       "      <td>IR1</td>\n",
       "      <td>HLS</td>\n",
       "      <td>AllPub</td>\n",
       "      <td>...</td>\n",
       "      <td>144</td>\n",
       "      <td>0</td>\n",
       "      <td>NaN</td>\n",
       "      <td>NaN</td>\n",
       "      <td>NaN</td>\n",
       "      <td>0</td>\n",
       "      <td>1</td>\n",
       "      <td>2010</td>\n",
       "      <td>WD</td>\n",
       "      <td>Normal</td>\n",
       "    </tr>\n",
       "  </tbody>\n",
       "</table>\n",
       "<p>5 rows × 80 columns</p>\n",
       "</div>"
      ],
      "text/plain": [
       "     Id  MSSubClass MSZoning  LotFrontage  LotArea Street Alley LotShape  \\\n",
       "0  1461          20       RH         80.0    11622   Pave   NaN      Reg   \n",
       "1  1462          20       RL         81.0    14267   Pave   NaN      IR1   \n",
       "2  1463          60       RL         74.0    13830   Pave   NaN      IR1   \n",
       "3  1464          60       RL         78.0     9978   Pave   NaN      IR1   \n",
       "4  1465         120       RL         43.0     5005   Pave   NaN      IR1   \n",
       "\n",
       "  LandContour Utilities  ... ScreenPorch PoolArea PoolQC  Fence MiscFeature  \\\n",
       "0         Lvl    AllPub  ...         120        0    NaN  MnPrv         NaN   \n",
       "1         Lvl    AllPub  ...           0        0    NaN    NaN        Gar2   \n",
       "2         Lvl    AllPub  ...           0        0    NaN  MnPrv         NaN   \n",
       "3         Lvl    AllPub  ...           0        0    NaN    NaN         NaN   \n",
       "4         HLS    AllPub  ...         144        0    NaN    NaN         NaN   \n",
       "\n",
       "  MiscVal MoSold  YrSold  SaleType  SaleCondition  \n",
       "0       0      6    2010        WD         Normal  \n",
       "1   12500      6    2010        WD         Normal  \n",
       "2       0      3    2010        WD         Normal  \n",
       "3       0      6    2010        WD         Normal  \n",
       "4       0      1    2010        WD         Normal  \n",
       "\n",
       "[5 rows x 80 columns]"
      ]
     },
     "execution_count": 10,
     "metadata": {},
     "output_type": "execute_result"
    }
   ],
   "source": [
    "df_test = pd.read_csv('/kaggle/input/house-prices-advanced-regression-techniques/test.csv')\n",
    "df_test.head()"
   ]
  },
  {
   "cell_type": "code",
   "execution_count": 11,
   "id": "da94f704",
   "metadata": {
    "execution": {
     "iopub.execute_input": "2024-04-14T23:22:27.519506Z",
     "iopub.status.busy": "2024-04-14T23:22:27.519077Z",
     "iopub.status.idle": "2024-04-14T23:22:27.525874Z",
     "shell.execute_reply": "2024-04-14T23:22:27.524750Z"
    },
    "papermill": {
     "duration": 0.026998,
     "end_time": "2024-04-14T23:22:27.528575",
     "exception": false,
     "start_time": "2024-04-14T23:22:27.501577",
     "status": "completed"
    },
    "tags": []
   },
   "outputs": [],
   "source": [
    "# Drop not required columns and missing values\n",
    "df_test = df_test.drop(['Alley', 'MiscFeature', 'Fence', 'PoolQC', 'MasVnrType'], axis='columns')\n"
   ]
  },
  {
   "cell_type": "code",
   "execution_count": 12,
   "id": "fa07ced7",
   "metadata": {
    "execution": {
     "iopub.execute_input": "2024-04-14T23:22:27.563571Z",
     "iopub.status.busy": "2024-04-14T23:22:27.563161Z",
     "iopub.status.idle": "2024-04-14T23:22:27.569797Z",
     "shell.execute_reply": "2024-04-14T23:22:27.568709Z"
    },
    "papermill": {
     "duration": 0.028023,
     "end_time": "2024-04-14T23:22:27.572686",
     "exception": false,
     "start_time": "2024-04-14T23:22:27.544663",
     "status": "completed"
    },
    "tags": []
   },
   "outputs": [
    {
     "data": {
      "text/plain": [
       "(1459, 75)"
      ]
     },
     "execution_count": 12,
     "metadata": {},
     "output_type": "execute_result"
    }
   ],
   "source": [
    "df_test.shape"
   ]
  },
  {
   "cell_type": "markdown",
   "id": "5570fd19",
   "metadata": {
    "papermill": {
     "duration": 0.015871,
     "end_time": "2024-04-14T23:22:27.604535",
     "exception": false,
     "start_time": "2024-04-14T23:22:27.588664",
     "status": "completed"
    },
    "tags": []
   },
   "source": [
    "# Handling null values in test data"
   ]
  },
  {
   "cell_type": "code",
   "execution_count": 13,
   "id": "7acba972",
   "metadata": {
    "execution": {
     "iopub.execute_input": "2024-04-14T23:22:27.638904Z",
     "iopub.status.busy": "2024-04-14T23:22:27.638521Z",
     "iopub.status.idle": "2024-04-14T23:22:27.651265Z",
     "shell.execute_reply": "2024-04-14T23:22:27.650199Z"
    },
    "papermill": {
     "duration": 0.03326,
     "end_time": "2024-04-14T23:22:27.653860",
     "exception": false,
     "start_time": "2024-04-14T23:22:27.620600",
     "status": "completed"
    },
    "tags": []
   },
   "outputs": [],
   "source": [
    "df_test = df_test.fillna({\n",
    "    'LotFrontage': df_test['LotFrontage'].mean(),\n",
    "    'MasVnrArea': df_test['MasVnrArea'].mean(),\n",
    "    'BsmtFinSF1': df_test['BsmtFinSF1'].mean(),\n",
    "    'BsmtFullBath': df_test['BsmtFullBath'].mean(),\n",
    "    'BsmtHalfBath': df_test['BsmtHalfBath'].mean(),   \n",
    "    'BsmtFinSF2': df_test['BsmtFinSF2'].mean(),     \n",
    "    'BsmtUnfSF': df_test['BsmtUnfSF'].mean(),      \n",
    "    'TotalBsmtSF': df_test['TotalBsmtSF'].mean()\n",
    "})"
   ]
  },
  {
   "cell_type": "code",
   "execution_count": 14,
   "id": "a456d065",
   "metadata": {
    "execution": {
     "iopub.execute_input": "2024-04-14T23:22:27.688642Z",
     "iopub.status.busy": "2024-04-14T23:22:27.688256Z",
     "iopub.status.idle": "2024-04-14T23:22:27.713379Z",
     "shell.execute_reply": "2024-04-14T23:22:27.712175Z"
    },
    "papermill": {
     "duration": 0.04601,
     "end_time": "2024-04-14T23:22:27.716596",
     "exception": false,
     "start_time": "2024-04-14T23:22:27.670586",
     "status": "completed"
    },
    "tags": []
   },
   "outputs": [],
   "source": [
    "df_test = df_test.fillna({\n",
    "    'BsmtQual': df_test['BsmtQual'].mode()[0],\n",
    "    'BsmtCond': df_test['BsmtCond'].mode()[0],\n",
    "    'BsmtExposure': df_test['BsmtExposure'].mode()[0],\n",
    "    'BsmtFinType1': df_test['BsmtFinType1'].mode()[0],\n",
    "    'BsmtFinType2': df_test['BsmtFinType2'].mode()[0],\n",
    "    'Electrical': df_test['Electrical'].mode()[0],\n",
    "    'FireplaceQu': df_test['FireplaceQu'].mode()[0],\n",
    "    'Utilities': df_test['Utilities'].mode()[0],\n",
    "    'SaleType': df_test['SaleType'].mode()[0],\n",
    "    'KitchenQual': df_test['KitchenQual'].mode()[0],\n",
    "    'Exterior1st': df_test['Exterior1st'].mode()[0],\n",
    "    'Exterior2nd': df_test['Exterior2nd'].mode()[0],\n",
    "    'Functional': df_test['Functional'].mode()[0],\n",
    "    'MSZoning': df_test['MSZoning'].mode()[0]\n",
    "})"
   ]
  },
  {
   "cell_type": "code",
   "execution_count": 15,
   "id": "d9898fd7",
   "metadata": {
    "execution": {
     "iopub.execute_input": "2024-04-14T23:22:27.750691Z",
     "iopub.status.busy": "2024-04-14T23:22:27.750296Z",
     "iopub.status.idle": "2024-04-14T23:22:27.767240Z",
     "shell.execute_reply": "2024-04-14T23:22:27.766017Z"
    },
    "papermill": {
     "duration": 0.037558,
     "end_time": "2024-04-14T23:22:27.770211",
     "exception": false,
     "start_time": "2024-04-14T23:22:27.732653",
     "status": "completed"
    },
    "tags": []
   },
   "outputs": [],
   "source": [
    "# Handle null values for Garage properties\n",
    "df_test = df_test.fillna({\n",
    "    'GarageYrBlt': df_test['YearBuilt'],\n",
    "    'GarageFinish': df_test['GarageFinish'].mode()[0],\n",
    "    'GarageQual': df_test['GarageQual'].mode()[0],\n",
    "    'GarageCond': df_test['GarageCond'].mode()[0],\n",
    "    'GarageType': df_test['GarageType'].mode()[0],\n",
    "    'GarageCars': df_test['GarageCars'].mean(),\n",
    "    'GarageArea': df_test['GarageArea'].mean()\n",
    "})"
   ]
  },
  {
   "cell_type": "code",
   "execution_count": 16,
   "id": "0acb2930",
   "metadata": {
    "execution": {
     "iopub.execute_input": "2024-04-14T23:22:27.803740Z",
     "iopub.status.busy": "2024-04-14T23:22:27.803323Z",
     "iopub.status.idle": "2024-04-14T23:22:27.827054Z",
     "shell.execute_reply": "2024-04-14T23:22:27.825887Z"
    },
    "papermill": {
     "duration": 0.043871,
     "end_time": "2024-04-14T23:22:27.829930",
     "exception": false,
     "start_time": "2024-04-14T23:22:27.786059",
     "status": "completed"
    },
    "tags": []
   },
   "outputs": [
    {
     "name": "stdout",
     "output_type": "stream",
     "text": [
      "<class 'pandas.core.frame.DataFrame'>\n",
      "RangeIndex: 1459 entries, 0 to 1458\n",
      "Data columns (total 75 columns):\n",
      " #   Column         Non-Null Count  Dtype  \n",
      "---  ------         --------------  -----  \n",
      " 0   Id             1459 non-null   int64  \n",
      " 1   MSSubClass     1459 non-null   int64  \n",
      " 2   MSZoning       1459 non-null   object \n",
      " 3   LotFrontage    1459 non-null   float64\n",
      " 4   LotArea        1459 non-null   int64  \n",
      " 5   Street         1459 non-null   object \n",
      " 6   LotShape       1459 non-null   object \n",
      " 7   LandContour    1459 non-null   object \n",
      " 8   Utilities      1459 non-null   object \n",
      " 9   LotConfig      1459 non-null   object \n",
      " 10  LandSlope      1459 non-null   object \n",
      " 11  Neighborhood   1459 non-null   object \n",
      " 12  Condition1     1459 non-null   object \n",
      " 13  Condition2     1459 non-null   object \n",
      " 14  BldgType       1459 non-null   object \n",
      " 15  HouseStyle     1459 non-null   object \n",
      " 16  OverallQual    1459 non-null   int64  \n",
      " 17  OverallCond    1459 non-null   int64  \n",
      " 18  YearBuilt      1459 non-null   int64  \n",
      " 19  YearRemodAdd   1459 non-null   int64  \n",
      " 20  RoofStyle      1459 non-null   object \n",
      " 21  RoofMatl       1459 non-null   object \n",
      " 22  Exterior1st    1459 non-null   object \n",
      " 23  Exterior2nd    1459 non-null   object \n",
      " 24  MasVnrArea     1459 non-null   float64\n",
      " 25  ExterQual      1459 non-null   object \n",
      " 26  ExterCond      1459 non-null   object \n",
      " 27  Foundation     1459 non-null   object \n",
      " 28  BsmtQual       1459 non-null   object \n",
      " 29  BsmtCond       1459 non-null   object \n",
      " 30  BsmtExposure   1459 non-null   object \n",
      " 31  BsmtFinType1   1459 non-null   object \n",
      " 32  BsmtFinSF1     1459 non-null   float64\n",
      " 33  BsmtFinType2   1459 non-null   object \n",
      " 34  BsmtFinSF2     1459 non-null   float64\n",
      " 35  BsmtUnfSF      1459 non-null   float64\n",
      " 36  TotalBsmtSF    1459 non-null   float64\n",
      " 37  Heating        1459 non-null   object \n",
      " 38  HeatingQC      1459 non-null   object \n",
      " 39  CentralAir     1459 non-null   object \n",
      " 40  Electrical     1459 non-null   object \n",
      " 41  1stFlrSF       1459 non-null   int64  \n",
      " 42  2ndFlrSF       1459 non-null   int64  \n",
      " 43  LowQualFinSF   1459 non-null   int64  \n",
      " 44  GrLivArea      1459 non-null   int64  \n",
      " 45  BsmtFullBath   1459 non-null   float64\n",
      " 46  BsmtHalfBath   1459 non-null   float64\n",
      " 47  FullBath       1459 non-null   int64  \n",
      " 48  HalfBath       1459 non-null   int64  \n",
      " 49  BedroomAbvGr   1459 non-null   int64  \n",
      " 50  KitchenAbvGr   1459 non-null   int64  \n",
      " 51  KitchenQual    1459 non-null   object \n",
      " 52  TotRmsAbvGrd   1459 non-null   int64  \n",
      " 53  Functional     1459 non-null   object \n",
      " 54  Fireplaces     1459 non-null   int64  \n",
      " 55  FireplaceQu    1459 non-null   object \n",
      " 56  GarageType     1459 non-null   object \n",
      " 57  GarageYrBlt    1459 non-null   float64\n",
      " 58  GarageFinish   1459 non-null   object \n",
      " 59  GarageCars     1459 non-null   float64\n",
      " 60  GarageArea     1459 non-null   float64\n",
      " 61  GarageQual     1459 non-null   object \n",
      " 62  GarageCond     1459 non-null   object \n",
      " 63  PavedDrive     1459 non-null   object \n",
      " 64  WoodDeckSF     1459 non-null   int64  \n",
      " 65  OpenPorchSF    1459 non-null   int64  \n",
      " 66  EnclosedPorch  1459 non-null   int64  \n",
      " 67  3SsnPorch      1459 non-null   int64  \n",
      " 68  ScreenPorch    1459 non-null   int64  \n",
      " 69  PoolArea       1459 non-null   int64  \n",
      " 70  MiscVal        1459 non-null   int64  \n",
      " 71  MoSold         1459 non-null   int64  \n",
      " 72  YrSold         1459 non-null   int64  \n",
      " 73  SaleType       1459 non-null   object \n",
      " 74  SaleCondition  1459 non-null   object \n",
      "dtypes: float64(11), int64(26), object(38)\n",
      "memory usage: 855.0+ KB\n"
     ]
    }
   ],
   "source": [
    "df_test.info()"
   ]
  },
  {
   "cell_type": "code",
   "execution_count": 17,
   "id": "38fae325",
   "metadata": {
    "execution": {
     "iopub.execute_input": "2024-04-14T23:22:27.864377Z",
     "iopub.status.busy": "2024-04-14T23:22:27.863320Z",
     "iopub.status.idle": "2024-04-14T23:22:27.872814Z",
     "shell.execute_reply": "2024-04-14T23:22:27.871814Z"
    },
    "papermill": {
     "duration": 0.029381,
     "end_time": "2024-04-14T23:22:27.875454",
     "exception": false,
     "start_time": "2024-04-14T23:22:27.846073",
     "status": "completed"
    },
    "tags": []
   },
   "outputs": [],
   "source": [
    "df_combined = pd.concat([df, df_test], axis='rows')"
   ]
  },
  {
   "cell_type": "code",
   "execution_count": 18,
   "id": "8a93bf95",
   "metadata": {
    "execution": {
     "iopub.execute_input": "2024-04-14T23:22:27.971720Z",
     "iopub.status.busy": "2024-04-14T23:22:27.971289Z",
     "iopub.status.idle": "2024-04-14T23:22:27.978178Z",
     "shell.execute_reply": "2024-04-14T23:22:27.976775Z"
    },
    "papermill": {
     "duration": 0.089145,
     "end_time": "2024-04-14T23:22:27.980704",
     "exception": false,
     "start_time": "2024-04-14T23:22:27.891559",
     "status": "completed"
    },
    "tags": []
   },
   "outputs": [
    {
     "data": {
      "text/plain": [
       "(2919, 76)"
      ]
     },
     "execution_count": 18,
     "metadata": {},
     "output_type": "execute_result"
    }
   ],
   "source": [
    "df_combined.shape"
   ]
  },
  {
   "cell_type": "code",
   "execution_count": 19,
   "id": "32a4a308",
   "metadata": {
    "execution": {
     "iopub.execute_input": "2024-04-14T23:22:28.016314Z",
     "iopub.status.busy": "2024-04-14T23:22:28.015843Z",
     "iopub.status.idle": "2024-04-14T23:22:28.024031Z",
     "shell.execute_reply": "2024-04-14T23:22:28.022637Z"
    },
    "papermill": {
     "duration": 0.028899,
     "end_time": "2024-04-14T23:22:28.026844",
     "exception": false,
     "start_time": "2024-04-14T23:22:27.997945",
     "status": "completed"
    },
    "tags": []
   },
   "outputs": [
    {
     "data": {
      "text/plain": [
       "Index(['Id', 'MSSubClass', 'MSZoning', 'LotFrontage', 'LotArea', 'Street',\n",
       "       'LotShape', 'LandContour', 'Utilities', 'LotConfig', 'LandSlope',\n",
       "       'Neighborhood', 'Condition1', 'Condition2', 'BldgType', 'HouseStyle',\n",
       "       'OverallQual', 'OverallCond', 'YearBuilt', 'YearRemodAdd', 'RoofStyle',\n",
       "       'RoofMatl', 'Exterior1st', 'Exterior2nd', 'MasVnrArea', 'ExterQual',\n",
       "       'ExterCond', 'Foundation', 'BsmtQual', 'BsmtCond', 'BsmtExposure',\n",
       "       'BsmtFinType1', 'BsmtFinSF1', 'BsmtFinType2', 'BsmtFinSF2', 'BsmtUnfSF',\n",
       "       'TotalBsmtSF', 'Heating', 'HeatingQC', 'CentralAir', 'Electrical',\n",
       "       '1stFlrSF', '2ndFlrSF', 'LowQualFinSF', 'GrLivArea', 'BsmtFullBath',\n",
       "       'BsmtHalfBath', 'FullBath', 'HalfBath', 'BedroomAbvGr', 'KitchenAbvGr',\n",
       "       'KitchenQual', 'TotRmsAbvGrd', 'Functional', 'Fireplaces',\n",
       "       'FireplaceQu', 'GarageType', 'GarageYrBlt', 'GarageFinish',\n",
       "       'GarageCars', 'GarageArea', 'GarageQual', 'GarageCond', 'PavedDrive',\n",
       "       'WoodDeckSF', 'OpenPorchSF', 'EnclosedPorch', '3SsnPorch',\n",
       "       'ScreenPorch', 'PoolArea', 'MiscVal', 'MoSold', 'YrSold', 'SaleType',\n",
       "       'SaleCondition', 'SalePrice'],\n",
       "      dtype='object')"
      ]
     },
     "execution_count": 19,
     "metadata": {},
     "output_type": "execute_result"
    }
   ],
   "source": [
    "df_combined.columns"
   ]
  },
  {
   "cell_type": "markdown",
   "id": "31e5b757",
   "metadata": {
    "papermill": {
     "duration": 0.017259,
     "end_time": "2024-04-14T23:22:28.060855",
     "exception": false,
     "start_time": "2024-04-14T23:22:28.043596",
     "status": "completed"
    },
    "tags": []
   },
   "source": [
    "# Handling categorical columns"
   ]
  },
  {
   "cell_type": "code",
   "execution_count": 20,
   "id": "0a66b13e",
   "metadata": {
    "execution": {
     "iopub.execute_input": "2024-04-14T23:22:28.096815Z",
     "iopub.status.busy": "2024-04-14T23:22:28.096387Z",
     "iopub.status.idle": "2024-04-14T23:22:28.104443Z",
     "shell.execute_reply": "2024-04-14T23:22:28.103249Z"
    },
    "papermill": {
     "duration": 0.029073,
     "end_time": "2024-04-14T23:22:28.107122",
     "exception": false,
     "start_time": "2024-04-14T23:22:28.078049",
     "status": "completed"
    },
    "tags": []
   },
   "outputs": [],
   "source": [
    "def category_onehot_multcols(multcolumns):\n",
    "    df_final=df_combined\n",
    "    i=0\n",
    "    for fields in multcolumns: \n",
    "        print(fields)\n",
    "        df1=pd.get_dummies(df_combined[fields],drop_first=True, dtype=int)\n",
    "        \n",
    "        df_combined.drop([fields],axis=1,inplace=True)\n",
    "        if i==0:\n",
    "            df_final=df1.copy()\n",
    "        else:\n",
    "            df_final=pd.concat([df_final,df1],axis=1)\n",
    "        i=i+1  \n",
    "        \n",
    "    df_final=pd.concat([df_combined,df_final],axis=1)\n",
    "        \n",
    "    return df_final"
   ]
  },
  {
   "cell_type": "code",
   "execution_count": 21,
   "id": "f53d5c13",
   "metadata": {
    "execution": {
     "iopub.execute_input": "2024-04-14T23:22:28.142548Z",
     "iopub.status.busy": "2024-04-14T23:22:28.142129Z",
     "iopub.status.idle": "2024-04-14T23:22:28.150775Z",
     "shell.execute_reply": "2024-04-14T23:22:28.149922Z"
    },
    "papermill": {
     "duration": 0.029246,
     "end_time": "2024-04-14T23:22:28.153094",
     "exception": false,
     "start_time": "2024-04-14T23:22:28.123848",
     "status": "completed"
    },
    "tags": []
   },
   "outputs": [
    {
     "data": {
      "text/plain": [
       "0       208500.0\n",
       "1       181500.0\n",
       "2       223500.0\n",
       "3       140000.0\n",
       "4       250000.0\n",
       "          ...   \n",
       "1454         NaN\n",
       "1455         NaN\n",
       "1456         NaN\n",
       "1457         NaN\n",
       "1458         NaN\n",
       "Name: SalePrice, Length: 2919, dtype: float64"
      ]
     },
     "execution_count": 21,
     "metadata": {},
     "output_type": "execute_result"
    }
   ],
   "source": [
    "df_combined['SalePrice']"
   ]
  },
  {
   "cell_type": "code",
   "execution_count": 22,
   "id": "1ecb437e",
   "metadata": {
    "execution": {
     "iopub.execute_input": "2024-04-14T23:22:28.190271Z",
     "iopub.status.busy": "2024-04-14T23:22:28.189438Z",
     "iopub.status.idle": "2024-04-14T23:22:28.196566Z",
     "shell.execute_reply": "2024-04-14T23:22:28.195535Z"
    },
    "papermill": {
     "duration": 0.02865,
     "end_time": "2024-04-14T23:22:28.198617",
     "exception": false,
     "start_time": "2024-04-14T23:22:28.169967",
     "status": "completed"
    },
    "tags": []
   },
   "outputs": [],
   "source": [
    "categorical_columns=['MSZoning','Street','LotShape','LandContour','Utilities','LotConfig','LandSlope','Neighborhood',\n",
    "         'Condition2','BldgType','Condition1','HouseStyle','SaleType',\n",
    "        'SaleCondition','ExterCond',\n",
    "         'ExterQual','Foundation','BsmtQual','BsmtCond','BsmtExposure','BsmtFinType1','BsmtFinType2',\n",
    "        'RoofStyle','RoofMatl','Exterior1st','Exterior2nd','Heating','HeatingQC',\n",
    "         'CentralAir',\n",
    "         'Electrical','KitchenQual','Functional',\n",
    "         'FireplaceQu','GarageType','GarageFinish','GarageQual','GarageCond','PavedDrive']"
   ]
  },
  {
   "cell_type": "code",
   "execution_count": 23,
   "id": "5e38c411",
   "metadata": {
    "execution": {
     "iopub.execute_input": "2024-04-14T23:22:28.233676Z",
     "iopub.status.busy": "2024-04-14T23:22:28.233295Z",
     "iopub.status.idle": "2024-04-14T23:22:28.576610Z",
     "shell.execute_reply": "2024-04-14T23:22:28.575433Z"
    },
    "papermill": {
     "duration": 0.363918,
     "end_time": "2024-04-14T23:22:28.579183",
     "exception": false,
     "start_time": "2024-04-14T23:22:28.215265",
     "status": "completed"
    },
    "tags": []
   },
   "outputs": [
    {
     "name": "stdout",
     "output_type": "stream",
     "text": [
      "MSZoning\n",
      "Street\n",
      "LotShape\n",
      "LandContour\n",
      "Utilities\n",
      "LotConfig\n",
      "LandSlope\n",
      "Neighborhood\n",
      "Condition2\n",
      "BldgType\n",
      "Condition1\n",
      "HouseStyle\n",
      "SaleType\n",
      "SaleCondition\n",
      "ExterCond\n",
      "ExterQual\n",
      "Foundation\n",
      "BsmtQual\n",
      "BsmtCond\n",
      "BsmtExposure\n",
      "BsmtFinType1\n",
      "BsmtFinType2\n",
      "RoofStyle\n",
      "RoofMatl\n",
      "Exterior1st\n",
      "Exterior2nd\n",
      "Heating\n",
      "HeatingQC\n",
      "CentralAir\n",
      "Electrical\n",
      "KitchenQual\n",
      "Functional\n",
      "FireplaceQu\n",
      "GarageType\n",
      "GarageFinish\n",
      "GarageQual\n",
      "GarageCond\n",
      "PavedDrive\n"
     ]
    }
   ],
   "source": [
    "final_df=category_onehot_multcols(categorical_columns)"
   ]
  },
  {
   "cell_type": "code",
   "execution_count": 24,
   "id": "30929b48",
   "metadata": {
    "execution": {
     "iopub.execute_input": "2024-04-14T23:22:28.616639Z",
     "iopub.status.busy": "2024-04-14T23:22:28.615282Z",
     "iopub.status.idle": "2024-04-14T23:22:28.623942Z",
     "shell.execute_reply": "2024-04-14T23:22:28.622811Z"
    },
    "papermill": {
     "duration": 0.02986,
     "end_time": "2024-04-14T23:22:28.626378",
     "exception": false,
     "start_time": "2024-04-14T23:22:28.596518",
     "status": "completed"
    },
    "tags": []
   },
   "outputs": [
    {
     "data": {
      "text/plain": [
       "(2919, 235)"
      ]
     },
     "execution_count": 24,
     "metadata": {},
     "output_type": "execute_result"
    }
   ],
   "source": [
    "final_df.shape"
   ]
  },
  {
   "cell_type": "markdown",
   "id": "8f7e7378",
   "metadata": {
    "papermill": {
     "duration": 0.016872,
     "end_time": "2024-04-14T23:22:28.660336",
     "exception": false,
     "start_time": "2024-04-14T23:22:28.643464",
     "status": "completed"
    },
    "tags": []
   },
   "source": [
    "# Remove duplicates"
   ]
  },
  {
   "cell_type": "code",
   "execution_count": 25,
   "id": "093534da",
   "metadata": {
    "execution": {
     "iopub.execute_input": "2024-04-14T23:22:28.697714Z",
     "iopub.status.busy": "2024-04-14T23:22:28.697324Z",
     "iopub.status.idle": "2024-04-14T23:22:28.705033Z",
     "shell.execute_reply": "2024-04-14T23:22:28.704132Z"
    },
    "papermill": {
     "duration": 0.02945,
     "end_time": "2024-04-14T23:22:28.707424",
     "exception": false,
     "start_time": "2024-04-14T23:22:28.677974",
     "status": "completed"
    },
    "tags": []
   },
   "outputs": [],
   "source": [
    "final_df =final_df.loc[:,~final_df.columns.duplicated()]"
   ]
  },
  {
   "cell_type": "code",
   "execution_count": 26,
   "id": "657ce818",
   "metadata": {
    "execution": {
     "iopub.execute_input": "2024-04-14T23:22:28.744327Z",
     "iopub.status.busy": "2024-04-14T23:22:28.743309Z",
     "iopub.status.idle": "2024-04-14T23:22:28.751431Z",
     "shell.execute_reply": "2024-04-14T23:22:28.750206Z"
    },
    "papermill": {
     "duration": 0.029292,
     "end_time": "2024-04-14T23:22:28.754115",
     "exception": false,
     "start_time": "2024-04-14T23:22:28.724823",
     "status": "completed"
    },
    "tags": []
   },
   "outputs": [
    {
     "data": {
      "text/plain": [
       "(2919, 177)"
      ]
     },
     "execution_count": 26,
     "metadata": {},
     "output_type": "execute_result"
    }
   ],
   "source": [
    "final_df.shape"
   ]
  },
  {
   "cell_type": "code",
   "execution_count": 27,
   "id": "847c3da6",
   "metadata": {
    "execution": {
     "iopub.execute_input": "2024-04-14T23:22:28.790301Z",
     "iopub.status.busy": "2024-04-14T23:22:28.789878Z",
     "iopub.status.idle": "2024-04-14T23:22:28.795905Z",
     "shell.execute_reply": "2024-04-14T23:22:28.794651Z"
    },
    "papermill": {
     "duration": 0.02703,
     "end_time": "2024-04-14T23:22:28.798429",
     "exception": false,
     "start_time": "2024-04-14T23:22:28.771399",
     "status": "completed"
    },
    "tags": []
   },
   "outputs": [],
   "source": [
    "df_train= final_df.iloc[:1460, :]\n",
    "df_test = final_df.iloc[1460:, :]"
   ]
  },
  {
   "cell_type": "code",
   "execution_count": 28,
   "id": "fcaeb154",
   "metadata": {
    "execution": {
     "iopub.execute_input": "2024-04-14T23:22:28.834626Z",
     "iopub.status.busy": "2024-04-14T23:22:28.834242Z",
     "iopub.status.idle": "2024-04-14T23:22:28.857074Z",
     "shell.execute_reply": "2024-04-14T23:22:28.855935Z"
    },
    "papermill": {
     "duration": 0.043919,
     "end_time": "2024-04-14T23:22:28.859756",
     "exception": false,
     "start_time": "2024-04-14T23:22:28.815837",
     "status": "completed"
    },
    "tags": []
   },
   "outputs": [
    {
     "data": {
      "text/html": [
       "<div>\n",
       "<style scoped>\n",
       "    .dataframe tbody tr th:only-of-type {\n",
       "        vertical-align: middle;\n",
       "    }\n",
       "\n",
       "    .dataframe tbody tr th {\n",
       "        vertical-align: top;\n",
       "    }\n",
       "\n",
       "    .dataframe thead th {\n",
       "        text-align: right;\n",
       "    }\n",
       "</style>\n",
       "<table border=\"1\" class=\"dataframe\">\n",
       "  <thead>\n",
       "    <tr style=\"text-align: right;\">\n",
       "      <th></th>\n",
       "      <th>Id</th>\n",
       "      <th>MSSubClass</th>\n",
       "      <th>LotFrontage</th>\n",
       "      <th>LotArea</th>\n",
       "      <th>OverallQual</th>\n",
       "      <th>OverallCond</th>\n",
       "      <th>YearBuilt</th>\n",
       "      <th>YearRemodAdd</th>\n",
       "      <th>MasVnrArea</th>\n",
       "      <th>BsmtFinSF1</th>\n",
       "      <th>...</th>\n",
       "      <th>Min1</th>\n",
       "      <th>Min2</th>\n",
       "      <th>Typ</th>\n",
       "      <th>Attchd</th>\n",
       "      <th>Basment</th>\n",
       "      <th>BuiltIn</th>\n",
       "      <th>CarPort</th>\n",
       "      <th>Detchd</th>\n",
       "      <th>RFn</th>\n",
       "      <th>P</th>\n",
       "    </tr>\n",
       "  </thead>\n",
       "  <tbody>\n",
       "    <tr>\n",
       "      <th>0</th>\n",
       "      <td>1</td>\n",
       "      <td>60</td>\n",
       "      <td>65.0</td>\n",
       "      <td>8450</td>\n",
       "      <td>7</td>\n",
       "      <td>5</td>\n",
       "      <td>2003</td>\n",
       "      <td>2003</td>\n",
       "      <td>196.0</td>\n",
       "      <td>706.0</td>\n",
       "      <td>...</td>\n",
       "      <td>0</td>\n",
       "      <td>0</td>\n",
       "      <td>1</td>\n",
       "      <td>1</td>\n",
       "      <td>0</td>\n",
       "      <td>0</td>\n",
       "      <td>0</td>\n",
       "      <td>0</td>\n",
       "      <td>1</td>\n",
       "      <td>0</td>\n",
       "    </tr>\n",
       "    <tr>\n",
       "      <th>1</th>\n",
       "      <td>2</td>\n",
       "      <td>20</td>\n",
       "      <td>80.0</td>\n",
       "      <td>9600</td>\n",
       "      <td>6</td>\n",
       "      <td>8</td>\n",
       "      <td>1976</td>\n",
       "      <td>1976</td>\n",
       "      <td>0.0</td>\n",
       "      <td>978.0</td>\n",
       "      <td>...</td>\n",
       "      <td>0</td>\n",
       "      <td>0</td>\n",
       "      <td>1</td>\n",
       "      <td>1</td>\n",
       "      <td>0</td>\n",
       "      <td>0</td>\n",
       "      <td>0</td>\n",
       "      <td>0</td>\n",
       "      <td>1</td>\n",
       "      <td>0</td>\n",
       "    </tr>\n",
       "    <tr>\n",
       "      <th>2</th>\n",
       "      <td>3</td>\n",
       "      <td>60</td>\n",
       "      <td>68.0</td>\n",
       "      <td>11250</td>\n",
       "      <td>7</td>\n",
       "      <td>5</td>\n",
       "      <td>2001</td>\n",
       "      <td>2002</td>\n",
       "      <td>162.0</td>\n",
       "      <td>486.0</td>\n",
       "      <td>...</td>\n",
       "      <td>0</td>\n",
       "      <td>0</td>\n",
       "      <td>1</td>\n",
       "      <td>1</td>\n",
       "      <td>0</td>\n",
       "      <td>0</td>\n",
       "      <td>0</td>\n",
       "      <td>0</td>\n",
       "      <td>1</td>\n",
       "      <td>0</td>\n",
       "    </tr>\n",
       "    <tr>\n",
       "      <th>3</th>\n",
       "      <td>4</td>\n",
       "      <td>70</td>\n",
       "      <td>60.0</td>\n",
       "      <td>9550</td>\n",
       "      <td>7</td>\n",
       "      <td>5</td>\n",
       "      <td>1915</td>\n",
       "      <td>1970</td>\n",
       "      <td>0.0</td>\n",
       "      <td>216.0</td>\n",
       "      <td>...</td>\n",
       "      <td>0</td>\n",
       "      <td>0</td>\n",
       "      <td>1</td>\n",
       "      <td>0</td>\n",
       "      <td>0</td>\n",
       "      <td>0</td>\n",
       "      <td>0</td>\n",
       "      <td>1</td>\n",
       "      <td>0</td>\n",
       "      <td>0</td>\n",
       "    </tr>\n",
       "    <tr>\n",
       "      <th>4</th>\n",
       "      <td>5</td>\n",
       "      <td>60</td>\n",
       "      <td>84.0</td>\n",
       "      <td>14260</td>\n",
       "      <td>8</td>\n",
       "      <td>5</td>\n",
       "      <td>2000</td>\n",
       "      <td>2000</td>\n",
       "      <td>350.0</td>\n",
       "      <td>655.0</td>\n",
       "      <td>...</td>\n",
       "      <td>0</td>\n",
       "      <td>0</td>\n",
       "      <td>1</td>\n",
       "      <td>1</td>\n",
       "      <td>0</td>\n",
       "      <td>0</td>\n",
       "      <td>0</td>\n",
       "      <td>0</td>\n",
       "      <td>1</td>\n",
       "      <td>0</td>\n",
       "    </tr>\n",
       "  </tbody>\n",
       "</table>\n",
       "<p>5 rows × 177 columns</p>\n",
       "</div>"
      ],
      "text/plain": [
       "   Id  MSSubClass  LotFrontage  LotArea  OverallQual  OverallCond  YearBuilt  \\\n",
       "0   1          60         65.0     8450            7            5       2003   \n",
       "1   2          20         80.0     9600            6            8       1976   \n",
       "2   3          60         68.0    11250            7            5       2001   \n",
       "3   4          70         60.0     9550            7            5       1915   \n",
       "4   5          60         84.0    14260            8            5       2000   \n",
       "\n",
       "   YearRemodAdd  MasVnrArea  BsmtFinSF1  ...  Min1  Min2  Typ  Attchd  \\\n",
       "0          2003       196.0       706.0  ...     0     0    1       1   \n",
       "1          1976         0.0       978.0  ...     0     0    1       1   \n",
       "2          2002       162.0       486.0  ...     0     0    1       1   \n",
       "3          1970         0.0       216.0  ...     0     0    1       0   \n",
       "4          2000       350.0       655.0  ...     0     0    1       1   \n",
       "\n",
       "   Basment  BuiltIn  CarPort  Detchd  RFn  P  \n",
       "0        0        0        0       0    1  0  \n",
       "1        0        0        0       0    1  0  \n",
       "2        0        0        0       0    1  0  \n",
       "3        0        0        0       1    0  0  \n",
       "4        0        0        0       0    1  0  \n",
       "\n",
       "[5 rows x 177 columns]"
      ]
     },
     "execution_count": 28,
     "metadata": {},
     "output_type": "execute_result"
    }
   ],
   "source": [
    "df_train.head()"
   ]
  },
  {
   "cell_type": "code",
   "execution_count": 29,
   "id": "769d3b43",
   "metadata": {
    "execution": {
     "iopub.execute_input": "2024-04-14T23:22:28.897080Z",
     "iopub.status.busy": "2024-04-14T23:22:28.896631Z",
     "iopub.status.idle": "2024-04-14T23:22:28.919180Z",
     "shell.execute_reply": "2024-04-14T23:22:28.918032Z"
    },
    "papermill": {
     "duration": 0.044173,
     "end_time": "2024-04-14T23:22:28.921639",
     "exception": false,
     "start_time": "2024-04-14T23:22:28.877466",
     "status": "completed"
    },
    "tags": []
   },
   "outputs": [
    {
     "data": {
      "text/html": [
       "<div>\n",
       "<style scoped>\n",
       "    .dataframe tbody tr th:only-of-type {\n",
       "        vertical-align: middle;\n",
       "    }\n",
       "\n",
       "    .dataframe tbody tr th {\n",
       "        vertical-align: top;\n",
       "    }\n",
       "\n",
       "    .dataframe thead th {\n",
       "        text-align: right;\n",
       "    }\n",
       "</style>\n",
       "<table border=\"1\" class=\"dataframe\">\n",
       "  <thead>\n",
       "    <tr style=\"text-align: right;\">\n",
       "      <th></th>\n",
       "      <th>Id</th>\n",
       "      <th>MSSubClass</th>\n",
       "      <th>LotFrontage</th>\n",
       "      <th>LotArea</th>\n",
       "      <th>OverallQual</th>\n",
       "      <th>OverallCond</th>\n",
       "      <th>YearBuilt</th>\n",
       "      <th>YearRemodAdd</th>\n",
       "      <th>MasVnrArea</th>\n",
       "      <th>BsmtFinSF1</th>\n",
       "      <th>...</th>\n",
       "      <th>Min1</th>\n",
       "      <th>Min2</th>\n",
       "      <th>Typ</th>\n",
       "      <th>Attchd</th>\n",
       "      <th>Basment</th>\n",
       "      <th>BuiltIn</th>\n",
       "      <th>CarPort</th>\n",
       "      <th>Detchd</th>\n",
       "      <th>RFn</th>\n",
       "      <th>P</th>\n",
       "    </tr>\n",
       "  </thead>\n",
       "  <tbody>\n",
       "    <tr>\n",
       "      <th>0</th>\n",
       "      <td>1461</td>\n",
       "      <td>20</td>\n",
       "      <td>80.0</td>\n",
       "      <td>11622</td>\n",
       "      <td>5</td>\n",
       "      <td>6</td>\n",
       "      <td>1961</td>\n",
       "      <td>1961</td>\n",
       "      <td>0.0</td>\n",
       "      <td>468.0</td>\n",
       "      <td>...</td>\n",
       "      <td>0</td>\n",
       "      <td>0</td>\n",
       "      <td>1</td>\n",
       "      <td>1</td>\n",
       "      <td>0</td>\n",
       "      <td>0</td>\n",
       "      <td>0</td>\n",
       "      <td>0</td>\n",
       "      <td>0</td>\n",
       "      <td>0</td>\n",
       "    </tr>\n",
       "    <tr>\n",
       "      <th>1</th>\n",
       "      <td>1462</td>\n",
       "      <td>20</td>\n",
       "      <td>81.0</td>\n",
       "      <td>14267</td>\n",
       "      <td>6</td>\n",
       "      <td>6</td>\n",
       "      <td>1958</td>\n",
       "      <td>1958</td>\n",
       "      <td>108.0</td>\n",
       "      <td>923.0</td>\n",
       "      <td>...</td>\n",
       "      <td>0</td>\n",
       "      <td>0</td>\n",
       "      <td>1</td>\n",
       "      <td>1</td>\n",
       "      <td>0</td>\n",
       "      <td>0</td>\n",
       "      <td>0</td>\n",
       "      <td>0</td>\n",
       "      <td>0</td>\n",
       "      <td>0</td>\n",
       "    </tr>\n",
       "    <tr>\n",
       "      <th>2</th>\n",
       "      <td>1463</td>\n",
       "      <td>60</td>\n",
       "      <td>74.0</td>\n",
       "      <td>13830</td>\n",
       "      <td>5</td>\n",
       "      <td>5</td>\n",
       "      <td>1997</td>\n",
       "      <td>1998</td>\n",
       "      <td>0.0</td>\n",
       "      <td>791.0</td>\n",
       "      <td>...</td>\n",
       "      <td>0</td>\n",
       "      <td>0</td>\n",
       "      <td>1</td>\n",
       "      <td>1</td>\n",
       "      <td>0</td>\n",
       "      <td>0</td>\n",
       "      <td>0</td>\n",
       "      <td>0</td>\n",
       "      <td>0</td>\n",
       "      <td>0</td>\n",
       "    </tr>\n",
       "    <tr>\n",
       "      <th>3</th>\n",
       "      <td>1464</td>\n",
       "      <td>60</td>\n",
       "      <td>78.0</td>\n",
       "      <td>9978</td>\n",
       "      <td>6</td>\n",
       "      <td>6</td>\n",
       "      <td>1998</td>\n",
       "      <td>1998</td>\n",
       "      <td>20.0</td>\n",
       "      <td>602.0</td>\n",
       "      <td>...</td>\n",
       "      <td>0</td>\n",
       "      <td>0</td>\n",
       "      <td>1</td>\n",
       "      <td>1</td>\n",
       "      <td>0</td>\n",
       "      <td>0</td>\n",
       "      <td>0</td>\n",
       "      <td>0</td>\n",
       "      <td>0</td>\n",
       "      <td>0</td>\n",
       "    </tr>\n",
       "    <tr>\n",
       "      <th>4</th>\n",
       "      <td>1465</td>\n",
       "      <td>120</td>\n",
       "      <td>43.0</td>\n",
       "      <td>5005</td>\n",
       "      <td>8</td>\n",
       "      <td>5</td>\n",
       "      <td>1992</td>\n",
       "      <td>1992</td>\n",
       "      <td>0.0</td>\n",
       "      <td>263.0</td>\n",
       "      <td>...</td>\n",
       "      <td>0</td>\n",
       "      <td>0</td>\n",
       "      <td>1</td>\n",
       "      <td>1</td>\n",
       "      <td>0</td>\n",
       "      <td>0</td>\n",
       "      <td>0</td>\n",
       "      <td>0</td>\n",
       "      <td>1</td>\n",
       "      <td>0</td>\n",
       "    </tr>\n",
       "  </tbody>\n",
       "</table>\n",
       "<p>5 rows × 177 columns</p>\n",
       "</div>"
      ],
      "text/plain": [
       "     Id  MSSubClass  LotFrontage  LotArea  OverallQual  OverallCond  \\\n",
       "0  1461          20         80.0    11622            5            6   \n",
       "1  1462          20         81.0    14267            6            6   \n",
       "2  1463          60         74.0    13830            5            5   \n",
       "3  1464          60         78.0     9978            6            6   \n",
       "4  1465         120         43.0     5005            8            5   \n",
       "\n",
       "   YearBuilt  YearRemodAdd  MasVnrArea  BsmtFinSF1  ...  Min1  Min2  Typ  \\\n",
       "0       1961          1961         0.0       468.0  ...     0     0    1   \n",
       "1       1958          1958       108.0       923.0  ...     0     0    1   \n",
       "2       1997          1998         0.0       791.0  ...     0     0    1   \n",
       "3       1998          1998        20.0       602.0  ...     0     0    1   \n",
       "4       1992          1992         0.0       263.0  ...     0     0    1   \n",
       "\n",
       "   Attchd  Basment  BuiltIn  CarPort  Detchd  RFn  P  \n",
       "0       1        0        0        0       0    0  0  \n",
       "1       1        0        0        0       0    0  0  \n",
       "2       1        0        0        0       0    0  0  \n",
       "3       1        0        0        0       0    0  0  \n",
       "4       1        0        0        0       0    1  0  \n",
       "\n",
       "[5 rows x 177 columns]"
      ]
     },
     "execution_count": 29,
     "metadata": {},
     "output_type": "execute_result"
    }
   ],
   "source": [
    "df_test.head()"
   ]
  },
  {
   "cell_type": "code",
   "execution_count": 30,
   "id": "21244e32",
   "metadata": {
    "execution": {
     "iopub.execute_input": "2024-04-14T23:22:28.959249Z",
     "iopub.status.busy": "2024-04-14T23:22:28.958827Z",
     "iopub.status.idle": "2024-04-14T23:22:28.966752Z",
     "shell.execute_reply": "2024-04-14T23:22:28.965396Z"
    },
    "papermill": {
     "duration": 0.029474,
     "end_time": "2024-04-14T23:22:28.969108",
     "exception": false,
     "start_time": "2024-04-14T23:22:28.939634",
     "status": "completed"
    },
    "tags": []
   },
   "outputs": [
    {
     "name": "stderr",
     "output_type": "stream",
     "text": [
      "/tmp/ipykernel_18/1171851223.py:1: SettingWithCopyWarning: \n",
      "A value is trying to be set on a copy of a slice from a DataFrame\n",
      "\n",
      "See the caveats in the documentation: https://pandas.pydata.org/pandas-docs/stable/user_guide/indexing.html#returning-a-view-versus-a-copy\n",
      "  df_test.drop(['SalePrice'], axis='columns',inplace=True)\n"
     ]
    }
   ],
   "source": [
    "df_test.drop(['SalePrice'], axis='columns',inplace=True)"
   ]
  },
  {
   "cell_type": "markdown",
   "id": "513bebbf",
   "metadata": {
    "papermill": {
     "duration": 0.017831,
     "end_time": "2024-04-14T23:22:29.005225",
     "exception": false,
     "start_time": "2024-04-14T23:22:28.987394",
     "status": "completed"
    },
    "tags": []
   },
   "source": [
    "# Modeling"
   ]
  },
  {
   "cell_type": "code",
   "execution_count": 31,
   "id": "36ed974e",
   "metadata": {
    "execution": {
     "iopub.execute_input": "2024-04-14T23:22:29.043258Z",
     "iopub.status.busy": "2024-04-14T23:22:29.042807Z",
     "iopub.status.idle": "2024-04-14T23:22:29.051655Z",
     "shell.execute_reply": "2024-04-14T23:22:29.050462Z"
    },
    "papermill": {
     "duration": 0.030956,
     "end_time": "2024-04-14T23:22:29.054220",
     "exception": false,
     "start_time": "2024-04-14T23:22:29.023264",
     "status": "completed"
    },
    "tags": []
   },
   "outputs": [],
   "source": [
    "X_train = df_train.drop(['SalePrice'], axis='columns')\n",
    "y_train = df_train['SalePrice']"
   ]
  },
  {
   "cell_type": "code",
   "execution_count": 32,
   "id": "17349f5d",
   "metadata": {
    "execution": {
     "iopub.execute_input": "2024-04-14T23:22:29.093049Z",
     "iopub.status.busy": "2024-04-14T23:22:29.092632Z",
     "iopub.status.idle": "2024-04-14T23:22:30.344879Z",
     "shell.execute_reply": "2024-04-14T23:22:30.343877Z"
    },
    "papermill": {
     "duration": 1.274977,
     "end_time": "2024-04-14T23:22:30.347778",
     "exception": false,
     "start_time": "2024-04-14T23:22:29.072801",
     "status": "completed"
    },
    "tags": []
   },
   "outputs": [
    {
     "data": {
      "text/html": [
       "<style>#sk-container-id-1 {color: black;background-color: white;}#sk-container-id-1 pre{padding: 0;}#sk-container-id-1 div.sk-toggleable {background-color: white;}#sk-container-id-1 label.sk-toggleable__label {cursor: pointer;display: block;width: 100%;margin-bottom: 0;padding: 0.3em;box-sizing: border-box;text-align: center;}#sk-container-id-1 label.sk-toggleable__label-arrow:before {content: \"▸\";float: left;margin-right: 0.25em;color: #696969;}#sk-container-id-1 label.sk-toggleable__label-arrow:hover:before {color: black;}#sk-container-id-1 div.sk-estimator:hover label.sk-toggleable__label-arrow:before {color: black;}#sk-container-id-1 div.sk-toggleable__content {max-height: 0;max-width: 0;overflow: hidden;text-align: left;background-color: #f0f8ff;}#sk-container-id-1 div.sk-toggleable__content pre {margin: 0.2em;color: black;border-radius: 0.25em;background-color: #f0f8ff;}#sk-container-id-1 input.sk-toggleable__control:checked~div.sk-toggleable__content {max-height: 200px;max-width: 100%;overflow: auto;}#sk-container-id-1 input.sk-toggleable__control:checked~label.sk-toggleable__label-arrow:before {content: \"▾\";}#sk-container-id-1 div.sk-estimator input.sk-toggleable__control:checked~label.sk-toggleable__label {background-color: #d4ebff;}#sk-container-id-1 div.sk-label input.sk-toggleable__control:checked~label.sk-toggleable__label {background-color: #d4ebff;}#sk-container-id-1 input.sk-hidden--visually {border: 0;clip: rect(1px 1px 1px 1px);clip: rect(1px, 1px, 1px, 1px);height: 1px;margin: -1px;overflow: hidden;padding: 0;position: absolute;width: 1px;}#sk-container-id-1 div.sk-estimator {font-family: monospace;background-color: #f0f8ff;border: 1px dotted black;border-radius: 0.25em;box-sizing: border-box;margin-bottom: 0.5em;}#sk-container-id-1 div.sk-estimator:hover {background-color: #d4ebff;}#sk-container-id-1 div.sk-parallel-item::after {content: \"\";width: 100%;border-bottom: 1px solid gray;flex-grow: 1;}#sk-container-id-1 div.sk-label:hover label.sk-toggleable__label {background-color: #d4ebff;}#sk-container-id-1 div.sk-serial::before {content: \"\";position: absolute;border-left: 1px solid gray;box-sizing: border-box;top: 0;bottom: 0;left: 50%;z-index: 0;}#sk-container-id-1 div.sk-serial {display: flex;flex-direction: column;align-items: center;background-color: white;padding-right: 0.2em;padding-left: 0.2em;position: relative;}#sk-container-id-1 div.sk-item {position: relative;z-index: 1;}#sk-container-id-1 div.sk-parallel {display: flex;align-items: stretch;justify-content: center;background-color: white;position: relative;}#sk-container-id-1 div.sk-item::before, #sk-container-id-1 div.sk-parallel-item::before {content: \"\";position: absolute;border-left: 1px solid gray;box-sizing: border-box;top: 0;bottom: 0;left: 50%;z-index: -1;}#sk-container-id-1 div.sk-parallel-item {display: flex;flex-direction: column;z-index: 1;position: relative;background-color: white;}#sk-container-id-1 div.sk-parallel-item:first-child::after {align-self: flex-end;width: 50%;}#sk-container-id-1 div.sk-parallel-item:last-child::after {align-self: flex-start;width: 50%;}#sk-container-id-1 div.sk-parallel-item:only-child::after {width: 0;}#sk-container-id-1 div.sk-dashed-wrapped {border: 1px dashed gray;margin: 0 0.4em 0.5em 0.4em;box-sizing: border-box;padding-bottom: 0.4em;background-color: white;}#sk-container-id-1 div.sk-label label {font-family: monospace;font-weight: bold;display: inline-block;line-height: 1.2em;}#sk-container-id-1 div.sk-label-container {text-align: center;}#sk-container-id-1 div.sk-container {/* jupyter's `normalize.less` sets `[hidden] { display: none; }` but bootstrap.min.css set `[hidden] { display: none !important; }` so we also need the `!important` here to be able to override the default hidden behavior on the sphinx rendered scikit-learn.org. See: https://github.com/scikit-learn/scikit-learn/issues/21755 */display: inline-block !important;position: relative;}#sk-container-id-1 div.sk-text-repr-fallback {display: none;}</style><div id=\"sk-container-id-1\" class=\"sk-top-container\"><div class=\"sk-text-repr-fallback\"><pre>XGBRegressor(base_score=None, booster=None, callbacks=None,\n",
       "             colsample_bylevel=None, colsample_bynode=None,\n",
       "             colsample_bytree=None, device=None, early_stopping_rounds=None,\n",
       "             enable_categorical=False, eval_metric=None, feature_types=None,\n",
       "             gamma=None, grow_policy=None, importance_type=None,\n",
       "             interaction_constraints=None, learning_rate=None, max_bin=None,\n",
       "             max_cat_threshold=None, max_cat_to_onehot=None,\n",
       "             max_delta_step=None, max_depth=None, max_leaves=None,\n",
       "             min_child_weight=None, missing=nan, monotone_constraints=None,\n",
       "             multi_strategy=None, n_estimators=None, n_jobs=None,\n",
       "             num_parallel_tree=None, random_state=None, ...)</pre><b>In a Jupyter environment, please rerun this cell to show the HTML representation or trust the notebook. <br />On GitHub, the HTML representation is unable to render, please try loading this page with nbviewer.org.</b></div><div class=\"sk-container\" hidden><div class=\"sk-item\"><div class=\"sk-estimator sk-toggleable\"><input class=\"sk-toggleable__control sk-hidden--visually\" id=\"sk-estimator-id-1\" type=\"checkbox\" checked><label for=\"sk-estimator-id-1\" class=\"sk-toggleable__label sk-toggleable__label-arrow\">XGBRegressor</label><div class=\"sk-toggleable__content\"><pre>XGBRegressor(base_score=None, booster=None, callbacks=None,\n",
       "             colsample_bylevel=None, colsample_bynode=None,\n",
       "             colsample_bytree=None, device=None, early_stopping_rounds=None,\n",
       "             enable_categorical=False, eval_metric=None, feature_types=None,\n",
       "             gamma=None, grow_policy=None, importance_type=None,\n",
       "             interaction_constraints=None, learning_rate=None, max_bin=None,\n",
       "             max_cat_threshold=None, max_cat_to_onehot=None,\n",
       "             max_delta_step=None, max_depth=None, max_leaves=None,\n",
       "             min_child_weight=None, missing=nan, monotone_constraints=None,\n",
       "             multi_strategy=None, n_estimators=None, n_jobs=None,\n",
       "             num_parallel_tree=None, random_state=None, ...)</pre></div></div></div></div></div>"
      ],
      "text/plain": [
       "XGBRegressor(base_score=None, booster=None, callbacks=None,\n",
       "             colsample_bylevel=None, colsample_bynode=None,\n",
       "             colsample_bytree=None, device=None, early_stopping_rounds=None,\n",
       "             enable_categorical=False, eval_metric=None, feature_types=None,\n",
       "             gamma=None, grow_policy=None, importance_type=None,\n",
       "             interaction_constraints=None, learning_rate=None, max_bin=None,\n",
       "             max_cat_threshold=None, max_cat_to_onehot=None,\n",
       "             max_delta_step=None, max_depth=None, max_leaves=None,\n",
       "             min_child_weight=None, missing=nan, monotone_constraints=None,\n",
       "             multi_strategy=None, n_estimators=None, n_jobs=None,\n",
       "             num_parallel_tree=None, random_state=None, ...)"
      ]
     },
     "execution_count": 32,
     "metadata": {},
     "output_type": "execute_result"
    }
   ],
   "source": [
    "import xgboost\n",
    "classifier=xgboost.XGBRegressor()\n",
    "classifier.fit(X_train, y_train)"
   ]
  },
  {
   "cell_type": "code",
   "execution_count": 33,
   "id": "4c42941c",
   "metadata": {
    "execution": {
     "iopub.execute_input": "2024-04-14T23:22:30.388364Z",
     "iopub.status.busy": "2024-04-14T23:22:30.387866Z",
     "iopub.status.idle": "2024-04-14T23:22:30.429012Z",
     "shell.execute_reply": "2024-04-14T23:22:30.428011Z"
    },
    "papermill": {
     "duration": 0.064041,
     "end_time": "2024-04-14T23:22:30.431795",
     "exception": false,
     "start_time": "2024-04-14T23:22:30.367754",
     "status": "completed"
    },
    "tags": []
   },
   "outputs": [],
   "source": [
    "y_pred = classifier.predict(df_test)"
   ]
  },
  {
   "cell_type": "code",
   "execution_count": 34,
   "id": "7777af9d",
   "metadata": {
    "execution": {
     "iopub.execute_input": "2024-04-14T23:22:30.473262Z",
     "iopub.status.busy": "2024-04-14T23:22:30.472763Z",
     "iopub.status.idle": "2024-04-14T23:22:30.518361Z",
     "shell.execute_reply": "2024-04-14T23:22:30.517271Z"
    },
    "papermill": {
     "duration": 0.068642,
     "end_time": "2024-04-14T23:22:30.521464",
     "exception": false,
     "start_time": "2024-04-14T23:22:30.452822",
     "status": "completed"
    },
    "tags": []
   },
   "outputs": [
    {
     "data": {
      "text/plain": [
       "1.0"
      ]
     },
     "execution_count": 34,
     "metadata": {},
     "output_type": "execute_result"
    }
   ],
   "source": [
    "classifier.score(df_test, y_pred)"
   ]
  },
  {
   "cell_type": "markdown",
   "id": "a85aa882",
   "metadata": {
    "papermill": {
     "duration": 0.01816,
     "end_time": "2024-04-14T23:22:30.559595",
     "exception": false,
     "start_time": "2024-04-14T23:22:30.541435",
     "status": "completed"
    },
    "tags": []
   },
   "source": [
    "# Hyperparameter tuning"
   ]
  },
  {
   "cell_type": "code",
   "execution_count": 35,
   "id": "66540310",
   "metadata": {
    "execution": {
     "iopub.execute_input": "2024-04-14T23:22:30.598880Z",
     "iopub.status.busy": "2024-04-14T23:22:30.598391Z",
     "iopub.status.idle": "2024-04-14T23:22:30.603687Z",
     "shell.execute_reply": "2024-04-14T23:22:30.602480Z"
    },
    "papermill": {
     "duration": 0.02791,
     "end_time": "2024-04-14T23:22:30.606189",
     "exception": false,
     "start_time": "2024-04-14T23:22:30.578279",
     "status": "completed"
    },
    "tags": []
   },
   "outputs": [],
   "source": [
    "from sklearn.model_selection import GridSearchCV"
   ]
  },
  {
   "cell_type": "code",
   "execution_count": 36,
   "id": "e19835bb",
   "metadata": {
    "execution": {
     "iopub.execute_input": "2024-04-14T23:22:30.647036Z",
     "iopub.status.busy": "2024-04-14T23:22:30.646521Z",
     "iopub.status.idle": "2024-04-14T23:22:30.652494Z",
     "shell.execute_reply": "2024-04-14T23:22:30.651581Z"
    },
    "papermill": {
     "duration": 0.028631,
     "end_time": "2024-04-14T23:22:30.654674",
     "exception": false,
     "start_time": "2024-04-14T23:22:30.626043",
     "status": "completed"
    },
    "tags": []
   },
   "outputs": [],
   "source": [
    "clf = GridSearchCV(\n",
    "    estimator = xgboost.XGBRegressor(), \n",
    "    param_grid= {\n",
    "            'max_depth': [3, 6, 9],\n",
    "            'min_child_weight': [1, 10, 100],\n",
    "            'learning_rate': [0.05, 0.1, 0.20]\n",
    "    },\n",
    "    cv=5, \n",
    "    return_train_score=True\n",
    ")"
   ]
  },
  {
   "cell_type": "code",
   "execution_count": 37,
   "id": "f1477e89",
   "metadata": {
    "execution": {
     "iopub.execute_input": "2024-04-14T23:22:30.695714Z",
     "iopub.status.busy": "2024-04-14T23:22:30.694556Z",
     "iopub.status.idle": "2024-04-14T23:23:44.013310Z",
     "shell.execute_reply": "2024-04-14T23:23:44.011925Z"
    },
    "papermill": {
     "duration": 73.354372,
     "end_time": "2024-04-14T23:23:44.028793",
     "exception": false,
     "start_time": "2024-04-14T23:22:30.674421",
     "status": "completed"
    },
    "tags": []
   },
   "outputs": [
    {
     "data": {
      "text/html": [
       "<div>\n",
       "<style scoped>\n",
       "    .dataframe tbody tr th:only-of-type {\n",
       "        vertical-align: middle;\n",
       "    }\n",
       "\n",
       "    .dataframe tbody tr th {\n",
       "        vertical-align: top;\n",
       "    }\n",
       "\n",
       "    .dataframe thead th {\n",
       "        text-align: right;\n",
       "    }\n",
       "</style>\n",
       "<table border=\"1\" class=\"dataframe\">\n",
       "  <thead>\n",
       "    <tr style=\"text-align: right;\">\n",
       "      <th></th>\n",
       "      <th>best_score</th>\n",
       "      <th>best_params</th>\n",
       "    </tr>\n",
       "  </thead>\n",
       "  <tbody>\n",
       "    <tr>\n",
       "      <th>0</th>\n",
       "      <td>0.884859</td>\n",
       "      <td>{'learning_rate': 0.2, 'max_depth': 3, 'min_ch...</td>\n",
       "    </tr>\n",
       "  </tbody>\n",
       "</table>\n",
       "</div>"
      ],
      "text/plain": [
       "   best_score                                        best_params\n",
       "0    0.884859  {'learning_rate': 0.2, 'max_depth': 3, 'min_ch..."
      ]
     },
     "execution_count": 37,
     "metadata": {},
     "output_type": "execute_result"
    }
   ],
   "source": [
    "scores = []\n",
    "clf.fit(X_train, y_train)\n",
    "scores.append(\n",
    "   { \n",
    "    'best_score': clf.best_score_,\n",
    "    'best_params': clf.best_params_\n",
    "   }\n",
    ")\n",
    "df_score = pd.DataFrame(scores, columns=['best_score', 'best_params'])\n",
    "df_score"
   ]
  },
  {
   "cell_type": "code",
   "execution_count": 38,
   "id": "23fffe66",
   "metadata": {
    "execution": {
     "iopub.execute_input": "2024-04-14T23:23:44.068901Z",
     "iopub.status.busy": "2024-04-14T23:23:44.068490Z",
     "iopub.status.idle": "2024-04-14T23:23:44.366234Z",
     "shell.execute_reply": "2024-04-14T23:23:44.365223Z"
    },
    "papermill": {
     "duration": 0.32153,
     "end_time": "2024-04-14T23:23:44.369413",
     "exception": false,
     "start_time": "2024-04-14T23:23:44.047883",
     "status": "completed"
    },
    "tags": []
   },
   "outputs": [
    {
     "data": {
      "text/html": [
       "<style>#sk-container-id-2 {color: black;background-color: white;}#sk-container-id-2 pre{padding: 0;}#sk-container-id-2 div.sk-toggleable {background-color: white;}#sk-container-id-2 label.sk-toggleable__label {cursor: pointer;display: block;width: 100%;margin-bottom: 0;padding: 0.3em;box-sizing: border-box;text-align: center;}#sk-container-id-2 label.sk-toggleable__label-arrow:before {content: \"▸\";float: left;margin-right: 0.25em;color: #696969;}#sk-container-id-2 label.sk-toggleable__label-arrow:hover:before {color: black;}#sk-container-id-2 div.sk-estimator:hover label.sk-toggleable__label-arrow:before {color: black;}#sk-container-id-2 div.sk-toggleable__content {max-height: 0;max-width: 0;overflow: hidden;text-align: left;background-color: #f0f8ff;}#sk-container-id-2 div.sk-toggleable__content pre {margin: 0.2em;color: black;border-radius: 0.25em;background-color: #f0f8ff;}#sk-container-id-2 input.sk-toggleable__control:checked~div.sk-toggleable__content {max-height: 200px;max-width: 100%;overflow: auto;}#sk-container-id-2 input.sk-toggleable__control:checked~label.sk-toggleable__label-arrow:before {content: \"▾\";}#sk-container-id-2 div.sk-estimator input.sk-toggleable__control:checked~label.sk-toggleable__label {background-color: #d4ebff;}#sk-container-id-2 div.sk-label input.sk-toggleable__control:checked~label.sk-toggleable__label {background-color: #d4ebff;}#sk-container-id-2 input.sk-hidden--visually {border: 0;clip: rect(1px 1px 1px 1px);clip: rect(1px, 1px, 1px, 1px);height: 1px;margin: -1px;overflow: hidden;padding: 0;position: absolute;width: 1px;}#sk-container-id-2 div.sk-estimator {font-family: monospace;background-color: #f0f8ff;border: 1px dotted black;border-radius: 0.25em;box-sizing: border-box;margin-bottom: 0.5em;}#sk-container-id-2 div.sk-estimator:hover {background-color: #d4ebff;}#sk-container-id-2 div.sk-parallel-item::after {content: \"\";width: 100%;border-bottom: 1px solid gray;flex-grow: 1;}#sk-container-id-2 div.sk-label:hover label.sk-toggleable__label {background-color: #d4ebff;}#sk-container-id-2 div.sk-serial::before {content: \"\";position: absolute;border-left: 1px solid gray;box-sizing: border-box;top: 0;bottom: 0;left: 50%;z-index: 0;}#sk-container-id-2 div.sk-serial {display: flex;flex-direction: column;align-items: center;background-color: white;padding-right: 0.2em;padding-left: 0.2em;position: relative;}#sk-container-id-2 div.sk-item {position: relative;z-index: 1;}#sk-container-id-2 div.sk-parallel {display: flex;align-items: stretch;justify-content: center;background-color: white;position: relative;}#sk-container-id-2 div.sk-item::before, #sk-container-id-2 div.sk-parallel-item::before {content: \"\";position: absolute;border-left: 1px solid gray;box-sizing: border-box;top: 0;bottom: 0;left: 50%;z-index: -1;}#sk-container-id-2 div.sk-parallel-item {display: flex;flex-direction: column;z-index: 1;position: relative;background-color: white;}#sk-container-id-2 div.sk-parallel-item:first-child::after {align-self: flex-end;width: 50%;}#sk-container-id-2 div.sk-parallel-item:last-child::after {align-self: flex-start;width: 50%;}#sk-container-id-2 div.sk-parallel-item:only-child::after {width: 0;}#sk-container-id-2 div.sk-dashed-wrapped {border: 1px dashed gray;margin: 0 0.4em 0.5em 0.4em;box-sizing: border-box;padding-bottom: 0.4em;background-color: white;}#sk-container-id-2 div.sk-label label {font-family: monospace;font-weight: bold;display: inline-block;line-height: 1.2em;}#sk-container-id-2 div.sk-label-container {text-align: center;}#sk-container-id-2 div.sk-container {/* jupyter's `normalize.less` sets `[hidden] { display: none; }` but bootstrap.min.css set `[hidden] { display: none !important; }` so we also need the `!important` here to be able to override the default hidden behavior on the sphinx rendered scikit-learn.org. See: https://github.com/scikit-learn/scikit-learn/issues/21755 */display: inline-block !important;position: relative;}#sk-container-id-2 div.sk-text-repr-fallback {display: none;}</style><div id=\"sk-container-id-2\" class=\"sk-top-container\"><div class=\"sk-text-repr-fallback\"><pre>XGBRegressor(base_score=None, booster=None, callbacks=None,\n",
       "             colsample_bylevel=None, colsample_bynode=None,\n",
       "             colsample_bytree=None, device=None, early_stopping_rounds=None,\n",
       "             enable_categorical=False, eval_metric=None, feature_types=None,\n",
       "             gamma=None, grow_policy=None, importance_type=None,\n",
       "             interaction_constraints=None, learning_rate=None, max_bin=None,\n",
       "             max_cat_threshold=None, max_cat_to_onehot=None,\n",
       "             max_delta_step=None, max_depth=3, max_leaves=None,\n",
       "             min_child_weight=1, missing=nan, monotone_constraints=None,\n",
       "             multi_strategy=None, n_estimators=None, n_jobs=None,\n",
       "             num_parallel_tree=None, random_state=None, ...)</pre><b>In a Jupyter environment, please rerun this cell to show the HTML representation or trust the notebook. <br />On GitHub, the HTML representation is unable to render, please try loading this page with nbviewer.org.</b></div><div class=\"sk-container\" hidden><div class=\"sk-item\"><div class=\"sk-estimator sk-toggleable\"><input class=\"sk-toggleable__control sk-hidden--visually\" id=\"sk-estimator-id-2\" type=\"checkbox\" checked><label for=\"sk-estimator-id-2\" class=\"sk-toggleable__label sk-toggleable__label-arrow\">XGBRegressor</label><div class=\"sk-toggleable__content\"><pre>XGBRegressor(base_score=None, booster=None, callbacks=None,\n",
       "             colsample_bylevel=None, colsample_bynode=None,\n",
       "             colsample_bytree=None, device=None, early_stopping_rounds=None,\n",
       "             enable_categorical=False, eval_metric=None, feature_types=None,\n",
       "             gamma=None, grow_policy=None, importance_type=None,\n",
       "             interaction_constraints=None, learning_rate=None, max_bin=None,\n",
       "             max_cat_threshold=None, max_cat_to_onehot=None,\n",
       "             max_delta_step=None, max_depth=3, max_leaves=None,\n",
       "             min_child_weight=1, missing=nan, monotone_constraints=None,\n",
       "             multi_strategy=None, n_estimators=None, n_jobs=None,\n",
       "             num_parallel_tree=None, random_state=None, ...)</pre></div></div></div></div></div>"
      ],
      "text/plain": [
       "XGBRegressor(base_score=None, booster=None, callbacks=None,\n",
       "             colsample_bylevel=None, colsample_bynode=None,\n",
       "             colsample_bytree=None, device=None, early_stopping_rounds=None,\n",
       "             enable_categorical=False, eval_metric=None, feature_types=None,\n",
       "             gamma=None, grow_policy=None, importance_type=None,\n",
       "             interaction_constraints=None, learning_rate=None, max_bin=None,\n",
       "             max_cat_threshold=None, max_cat_to_onehot=None,\n",
       "             max_delta_step=None, max_depth=3, max_leaves=None,\n",
       "             min_child_weight=1, missing=nan, monotone_constraints=None,\n",
       "             multi_strategy=None, n_estimators=None, n_jobs=None,\n",
       "             num_parallel_tree=None, random_state=None, ...)"
      ]
     },
     "execution_count": 38,
     "metadata": {},
     "output_type": "execute_result"
    }
   ],
   "source": [
    "tuned_classifier=xgboost.XGBRegressor(max_depth=3, min_child_weight=1)\n",
    "tuned_classifier.fit(X_train, y_train)\n"
   ]
  },
  {
   "cell_type": "code",
   "execution_count": 39,
   "id": "568018d8",
   "metadata": {
    "execution": {
     "iopub.execute_input": "2024-04-14T23:23:44.409746Z",
     "iopub.status.busy": "2024-04-14T23:23:44.409320Z",
     "iopub.status.idle": "2024-04-14T23:23:44.448046Z",
     "shell.execute_reply": "2024-04-14T23:23:44.447091Z"
    },
    "papermill": {
     "duration": 0.061887,
     "end_time": "2024-04-14T23:23:44.450872",
     "exception": false,
     "start_time": "2024-04-14T23:23:44.388985",
     "status": "completed"
    },
    "tags": []
   },
   "outputs": [],
   "source": [
    "y_pred = tuned_classifier.predict(df_test)"
   ]
  },
  {
   "cell_type": "code",
   "execution_count": 40,
   "id": "e0894615",
   "metadata": {
    "execution": {
     "iopub.execute_input": "2024-04-14T23:23:44.494259Z",
     "iopub.status.busy": "2024-04-14T23:23:44.493820Z",
     "iopub.status.idle": "2024-04-14T23:23:44.520155Z",
     "shell.execute_reply": "2024-04-14T23:23:44.519019Z"
    },
    "papermill": {
     "duration": 0.051639,
     "end_time": "2024-04-14T23:23:44.522955",
     "exception": false,
     "start_time": "2024-04-14T23:23:44.471316",
     "status": "completed"
    },
    "tags": []
   },
   "outputs": [],
   "source": [
    "prediction= pd.DataFrame(y_pred)\n",
    "submission_df = pd.read_csv('/kaggle/input/house-prices-advanced-regression-techniques/sample_submission.csv')\n",
    "datasets = pd.concat([submission_df['Id'], prediction], axis='columns')\n",
    "datasets.columns = ['Id', 'SalePrice']\n",
    "datasets.to_csv('sample_submission.csv', index=False)"
   ]
  }
 ],
 "metadata": {
  "kaggle": {
   "accelerator": "none",
   "dataSources": [
    {
     "databundleVersionId": 868283,
     "sourceId": 5407,
     "sourceType": "competition"
    }
   ],
   "dockerImageVersionId": 30684,
   "isGpuEnabled": false,
   "isInternetEnabled": true,
   "language": "python",
   "sourceType": "notebook"
  },
  "kernelspec": {
   "display_name": "Python 3",
   "language": "python",
   "name": "python3"
  },
  "language_info": {
   "codemirror_mode": {
    "name": "ipython",
    "version": 3
   },
   "file_extension": ".py",
   "mimetype": "text/x-python",
   "name": "python",
   "nbconvert_exporter": "python",
   "pygments_lexer": "ipython3",
   "version": "3.10.13"
  },
  "papermill": {
   "default_parameters": {},
   "duration": 84.201716,
   "end_time": "2024-04-14T23:23:45.263603",
   "environment_variables": {},
   "exception": null,
   "input_path": "__notebook__.ipynb",
   "output_path": "__notebook__.ipynb",
   "parameters": {},
   "start_time": "2024-04-14T23:22:21.061887",
   "version": "2.5.0"
  }
 },
 "nbformat": 4,
 "nbformat_minor": 5
}
